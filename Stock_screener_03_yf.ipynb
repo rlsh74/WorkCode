{
 "cells": [
  {
   "cell_type": "markdown",
   "id": "knowing-power",
   "metadata": {},
   "source": [
    "Methods and functions for stock selection: Fundamental data analisys"
   ]
  },
  {
   "cell_type": "code",
   "execution_count": 1,
   "id": "extensive-contamination",
   "metadata": {},
   "outputs": [],
   "source": [
    "import yfinance as yf\n",
    "import pandas as pd\n",
    "import numpy as np\n",
    "import matplotlib.pyplot as plt \n",
    "\n",
    "import quantstats as qs"
   ]
  },
  {
   "cell_type": "code",
   "execution_count": 23,
   "id": "collectible-worth",
   "metadata": {},
   "outputs": [
    {
     "data": {
      "text/plain": [
       "('WillScot Mobile Mini Holdings Corp.',\n",
       " 'Industrials',\n",
       " 'Rental & Leasing Services',\n",
       " 25.936937,\n",
       " 6515062272)"
      ]
     },
     "execution_count": 23,
     "metadata": {},
     "output_type": "execute_result"
    }
   ],
   "source": [
    "ticker = 'WSC'\n",
    "dict = yf.Ticker(ticker).info\n",
    "dict['longName'], dict['sector'], dict['industry'], dict['forwardPE'], dict['marketCap']"
   ]
  },
  {
   "cell_type": "code",
   "execution_count": 24,
   "id": "12ddb1e7",
   "metadata": {},
   "outputs": [
    {
     "data": {
      "text/plain": [
       "{'zip': '85008',\n",
       " 'sector': 'Industrials',\n",
       " 'fullTimeEmployees': 4300,\n",
       " 'longBusinessSummary': 'WillScot Mobile Mini Holdings Corp. provides modular space and portable storage solutions in the United States, Canada, Mexico, and the United Kingdom. The company leases various office space and storage solutions for temporary applications across a customer base in the commercial and industrial, construction, retail, education, natural resources, health care, government, transportation, security, and energy sectors. It operates a fleet of over 350,000 portable offices and storage containers. WillScot Mobile Mini Holdings Corp. is headquartered in Phoenix, Arizona.',\n",
       " 'city': 'Phoenix',\n",
       " 'phone': '480 894 6311',\n",
       " 'state': 'AZ',\n",
       " 'country': 'United States',\n",
       " 'companyOfficers': [],\n",
       " 'website': 'http://www.willscotmobilemini.com',\n",
       " 'maxAge': 1,\n",
       " 'address1': '4646 East Van Buren Street',\n",
       " 'industry': 'Rental & Leasing Services',\n",
       " 'address2': 'Suite 400',\n",
       " 'previousClose': 28.53,\n",
       " 'regularMarketOpen': 28.76,\n",
       " 'twoHundredDayAverage': 23.425108,\n",
       " 'trailingAnnualDividendYield': None,\n",
       " 'payoutRatio': 0,\n",
       " 'volume24Hr': None,\n",
       " 'regularMarketDayHigh': 28.96,\n",
       " 'navPrice': None,\n",
       " 'averageDailyVolume10Day': 1044775,\n",
       " 'totalAssets': None,\n",
       " 'regularMarketPreviousClose': 28.53,\n",
       " 'fiftyDayAverage': 27.46,\n",
       " 'trailingAnnualDividendRate': None,\n",
       " 'open': 28.76,\n",
       " 'toCurrency': None,\n",
       " 'averageVolume10days': 1044775,\n",
       " 'expireDate': None,\n",
       " 'yield': None,\n",
       " 'algorithm': None,\n",
       " 'dividendRate': None,\n",
       " 'exDividendDate': None,\n",
       " 'beta': 1.825688,\n",
       " 'circulatingSupply': None,\n",
       " 'startDate': None,\n",
       " 'regularMarketDayLow': 28.27,\n",
       " 'priceHint': 2,\n",
       " 'currency': 'USD',\n",
       " 'trailingPE': 70.21951,\n",
       " 'regularMarketVolume': 638823,\n",
       " 'lastMarket': None,\n",
       " 'maxSupply': None,\n",
       " 'openInterest': None,\n",
       " 'marketCap': 6515062272,\n",
       " 'volumeAllCurrencies': None,\n",
       " 'strikePrice': None,\n",
       " 'averageVolume': 1614898,\n",
       " 'priceToSalesTrailing12Months': 4.7637086,\n",
       " 'dayLow': 28.27,\n",
       " 'ask': 29.5,\n",
       " 'ytdReturn': None,\n",
       " 'askSize': 1000,\n",
       " 'volume': 638823,\n",
       " 'fiftyTwoWeekHigh': 29.86,\n",
       " 'forwardPE': 25.936937,\n",
       " 'fromCurrency': None,\n",
       " 'fiveYearAvgDividendYield': None,\n",
       " 'fiftyTwoWeekLow': 8.85,\n",
       " 'bid': 0,\n",
       " 'tradeable': False,\n",
       " 'dividendYield': None,\n",
       " 'bidSize': 800,\n",
       " 'dayHigh': 28.96,\n",
       " 'exchange': 'NMS',\n",
       " 'shortName': 'WillScot Mobile Mini Holdings C',\n",
       " 'longName': 'WillScot Mobile Mini Holdings Corp.',\n",
       " 'exchangeTimezoneName': 'America/New_York',\n",
       " 'exchangeTimezoneShortName': 'EDT',\n",
       " 'isEsgPopulated': False,\n",
       " 'gmtOffSetMilliseconds': '-14400000',\n",
       " 'quoteType': 'EQUITY',\n",
       " 'symbol': 'WSC',\n",
       " 'messageBoardId': 'finmb_3735944',\n",
       " 'market': 'us_market',\n",
       " 'annualHoldingsTurnover': None,\n",
       " 'enterpriseToRevenue': 6.792,\n",
       " 'beta3Year': None,\n",
       " 'profitMargins': 0.05167,\n",
       " 'enterpriseToEbitda': 30.118,\n",
       " '52WeekChange': 1.8646767,\n",
       " 'morningStarRiskRating': None,\n",
       " 'forwardEps': 1.11,\n",
       " 'revenueQuarterlyGrowth': None,\n",
       " 'sharesOutstanding': 226296000,\n",
       " 'fundInceptionDate': None,\n",
       " 'annualReportExpenseRatio': None,\n",
       " 'bookValue': 9.349,\n",
       " 'sharesShort': 16487881,\n",
       " 'sharesPercentSharesOut': 0.0729,\n",
       " 'fundFamily': None,\n",
       " 'lastFiscalYearEnd': 1609372800,\n",
       " 'heldPercentInstitutions': 0.77904,\n",
       " 'netIncomeToCommon': 70666000,\n",
       " 'trailingEps': 0.41,\n",
       " 'lastDividendValue': None,\n",
       " 'SandP52WeekChange': 0.45080292,\n",
       " 'priceToBook': 3.0794737,\n",
       " 'heldPercentInsiders': 0.20148,\n",
       " 'nextFiscalYearEnd': 1672444800,\n",
       " 'mostRecentQuarter': 1609372800,\n",
       " 'shortRatio': 7.47,\n",
       " 'sharesShortPreviousMonthDate': 1614297600,\n",
       " 'floatShares': 181406943,\n",
       " 'enterpriseValue': 9288386560,\n",
       " 'threeYearAverageReturn': None,\n",
       " 'lastSplitDate': None,\n",
       " 'lastSplitFactor': None,\n",
       " 'legalType': None,\n",
       " 'lastDividendDate': None,\n",
       " 'morningStarOverallRating': None,\n",
       " 'earningsQuarterlyGrowth': 4.77,\n",
       " 'dateShortInterest': 1617148800,\n",
       " 'pegRatio': 0.53,\n",
       " 'lastCapGain': None,\n",
       " 'shortPercentOfFloat': 0.1035,\n",
       " 'sharesShortPriorMonth': 16708519,\n",
       " 'impliedSharesOutstanding': None,\n",
       " 'category': None,\n",
       " 'fiveYearAverageReturn': None,\n",
       " 'regularMarketPrice': 28.79,\n",
       " 'logo_url': 'https://logo.clearbit.com/willscotmobilemini.com'}"
      ]
     },
     "execution_count": 24,
     "metadata": {},
     "output_type": "execute_result"
    }
   ],
   "source": [
    "yf.Ticker(ticker).info"
   ]
  },
  {
   "cell_type": "code",
   "execution_count": 17,
   "id": "491ad903",
   "metadata": {},
   "outputs": [],
   "source": [
    "dict['forwardPE']"
   ]
  },
  {
   "cell_type": "code",
   "execution_count": 18,
   "id": "ff9c3939",
   "metadata": {},
   "outputs": [
    {
     "ename": "KeyError",
     "evalue": "'sector'",
     "output_type": "error",
     "traceback": [
      "\u001b[1;31m---------------------------------------------------------------------------\u001b[0m",
      "\u001b[1;31mKeyError\u001b[0m                                  Traceback (most recent call last)",
      "\u001b[1;32m<ipython-input-18-fb780ce7f4ab>\u001b[0m in \u001b[0;36m<module>\u001b[1;34m\u001b[0m\n\u001b[1;32m----> 1\u001b[1;33m \u001b[0mdict\u001b[0m\u001b[1;33m[\u001b[0m\u001b[1;34m'longName'\u001b[0m\u001b[1;33m]\u001b[0m\u001b[1;33m,\u001b[0m \u001b[0mdict\u001b[0m\u001b[1;33m[\u001b[0m\u001b[1;34m'sector'\u001b[0m\u001b[1;33m]\u001b[0m\u001b[1;33m,\u001b[0m \u001b[0mdict\u001b[0m\u001b[1;33m[\u001b[0m\u001b[1;34m'industry'\u001b[0m\u001b[1;33m]\u001b[0m\u001b[1;33m\u001b[0m\u001b[1;33m\u001b[0m\u001b[0m\n\u001b[0m",
      "\u001b[1;31mKeyError\u001b[0m: 'sector'"
     ]
    }
   ],
   "source": [
    "dict['longName'], dict['sector'], dict['industry']"
   ]
  },
  {
   "cell_type": "code",
   "execution_count": 79,
   "id": "46a35983",
   "metadata": {},
   "outputs": [],
   "source": [
    "x = [12, 14, 15, 13, 19, 23, 34, 35, 56, 54, 43, 41, 34, 46]"
   ]
  },
  {
   "cell_type": "code",
   "execution_count": 80,
   "id": "22c67b56",
   "metadata": {},
   "outputs": [
    {
     "data": {
      "text/plain": [
       "[3.9088200952233594,\n",
       " 4.222008245644752,\n",
       " 4.370193722368317,\n",
       " 4.068428945128219,\n",
       " 4.918490759365936,\n",
       " 5.4115163798060095,\n",
       " 6.579524642479542,\n",
       " 6.675581178124546,\n",
       " 8.444016491289505,\n",
       " 8.291859587312052,\n",
       " 7.399277020331919,\n",
       " 7.225151993843567,\n",
       " 6.579524642479542,\n",
       " 7.653039857325813]"
      ]
     },
     "execution_count": 80,
     "metadata": {},
     "output_type": "execute_result"
    }
   ],
   "source": [
    "y = [2*x**0.5/np.pi**0.5 for x in x]\n",
    "y"
   ]
  },
  {
   "cell_type": "code",
   "execution_count": 71,
   "id": "ea0c3074",
   "metadata": {},
   "outputs": [
    {
     "data": {
      "text/plain": [
       "array([11, 11,  1, 21, -2])"
      ]
     },
     "execution_count": 71,
     "metadata": {},
     "output_type": "execute_result"
    }
   ],
   "source": [
    "z = np.diff(x)\n",
    "z"
   ]
  },
  {
   "cell_type": "code",
   "execution_count": 73,
   "id": "fdf04dfe",
   "metadata": {},
   "outputs": [
    {
     "data": {
      "text/plain": [
       "[<matplotlib.lines.Line2D at 0x25de486c5e0>]"
      ]
     },
     "execution_count": 73,
     "metadata": {},
     "output_type": "execute_result"
    },
    {
     "data": {
      "image/png": "[encoded data removed]",
      "text/plain": [
       "<Figure size 432x288 with 1 Axes>"
      ]
     },
     "metadata": {
      "needs_background": "light"
     },
     "output_type": "display_data"
    }
   ],
   "source": [
    "plt.plot(x)"
   ]
  },
  {
   "cell_type": "code",
   "execution_count": 83,
   "id": "832b45c8",
   "metadata": {},
   "outputs": [
    {
     "data": {
      "text/plain": [
       "[<matplotlib.lines.Line2D at 0x25de4ac1820>]"
      ]
     },
     "execution_count": 83,
     "metadata": {},
     "output_type": "execute_result"
    },
    {
     "data": {
      "image/png": "[encoded data removed]",
      "text/plain": [
       "<Figure size 432x288 with 1 Axes>"
      ]
     },
     "metadata": {
      "needs_background": "light"
     },
     "output_type": "display_data"
    }
   ],
   "source": [
    "plt.plot(y)"
   ]
  },
  {
   "cell_type": "code",
   "execution_count": 81,
   "id": "62705f37",
   "metadata": {},
   "outputs": [
    {
     "data": {
      "text/plain": [
       "array([ 0.31318815,  0.14818548, -0.30176478,  0.85006181,  0.49302562,\n",
       "        1.16800826,  0.09605654,  1.76843531, -0.1521569 , -0.89258257,\n",
       "       -0.17412503, -0.64562735,  1.07351521])"
      ]
     },
     "execution_count": 81,
     "metadata": {},
     "output_type": "execute_result"
    }
   ],
   "source": [
    "t = np.diff(y)\n",
    "t"
   ]
  },
  {
   "cell_type": "code",
   "execution_count": 82,
   "id": "a60f9891",
   "metadata": {},
   "outputs": [
    {
     "data": {
      "text/plain": [
       "[<matplotlib.lines.Line2D at 0x25de4b29fa0>]"
      ]
     },
     "execution_count": 82,
     "metadata": {},
     "output_type": "execute_result"
    },
    {
     "data": {
      "image/png": "[encoded data removed]",
      "text/plain": [
       "<Figure size 432x288 with 1 Axes>"
      ]
     },
     "metadata": {
      "needs_background": "light"
     },
     "output_type": "display_data"
    }
   ],
   "source": [
    "plt.plot(t)"
   ]
  },
  {
   "cell_type": "code",
   "execution_count": 78,
   "id": "d3b3121b",
   "metadata": {},
   "outputs": [
    {
     "data": {
      "text/plain": [
       "[<matplotlib.lines.Line2D at 0x25de4b5c580>]"
      ]
     },
     "execution_count": 78,
     "metadata": {},
     "output_type": "execute_result"
    },
    {
     "data": {
      "image/png": "[encoded data removed]",
      "text/plain": [
       "<Figure size 432x288 with 1 Axes>"
      ]
     },
     "metadata": {
      "needs_background": "light"
     },
     "output_type": "display_data"
    }
   ],
   "source": [
    "plt.plot(z)"
   ]
  },
  {
   "cell_type": "code",
   "execution_count": 57,
   "id": "ff621584",
   "metadata": {},
   "outputs": [
    {
     "name": "stdout",
     "output_type": "stream",
     "text": [
      "Requirement already satisfied: sympy in c:\\programdata\\anaconda3\\lib\\site-packages (1.7.1)\n",
      "Requirement already satisfied: mpmath>=0.19 in c:\\programdata\\anaconda3\\lib\\site-packages (from sympy) (1.2.1)\n",
      "Note: you may need to restart the kernel to use updated packages.\n"
     ]
    }
   ],
   "source": [
    "pip install sympy"
   ]
  },
  {
   "cell_type": "code",
   "execution_count": 58,
   "id": "d7a43c6f",
   "metadata": {},
   "outputs": [],
   "source": [
    "import sympy"
   ]
  },
  {
   "cell_type": "code",
   "execution_count": 61,
   "id": "694959da",
   "metadata": {},
   "outputs": [],
   "source": [
    "x, y = sympy.symbols('x y')"
   ]
  },
  {
   "cell_type": "code",
   "execution_count": 64,
   "id": "acd3104f",
   "metadata": {},
   "outputs": [
    {
     "data": {
      "text/latex": [
       "$\\displaystyle x^{3 x}$"
      ],
      "text/plain": [
       "x**(3*x)"
      ]
     },
     "execution_count": 64,
     "metadata": {},
     "output_type": "execute_result"
    }
   ],
   "source": [
    "(x**x)**3"
   ]
  },
  {
   "cell_type": "code",
   "execution_count": 51,
   "id": "7bce728b",
   "metadata": {},
   "outputs": [
    {
     "data": {
      "text/plain": [
       "[0.16286750396763996,\n",
       " 0.11764166043056543,\n",
       " 0.09675771533058149,\n",
       " 0.09536544540177921,\n",
       " 0.07539300438651343,\n",
       " 0.03720155946846915]"
      ]
     },
     "execution_count": 51,
     "metadata": {},
     "output_type": "execute_result"
    }
   ],
   "source": [
    "y = [1/(np.pi*x)**0.5 for x in x]\n",
    "y"
   ]
  },
  {
   "cell_type": "code",
   "execution_count": 55,
   "id": "b8085c84",
   "metadata": {},
   "outputs": [],
   "source": [
    "y = [np.log(x) for x in x]"
   ]
  },
  {
   "cell_type": "code",
   "execution_count": 56,
   "id": "ee1d4e15",
   "metadata": {},
   "outputs": [
    {
     "data": {
      "image/png": "[encoded data removed]",
      "text/plain": [
       "<Figure size 432x288 with 1 Axes>"
      ]
     },
     "metadata": {
      "needs_background": "light"
     },
     "output_type": "display_data"
    }
   ],
   "source": [
    "plt.plot(y)\n",
    "plt.show()"
   ]
  },
  {
   "cell_type": "code",
   "execution_count": null,
   "id": "economic-brook",
   "metadata": {
    "scrolled": false
   },
   "outputs": [],
   "source": [
    "PERIOD_ATR = 14\n",
    "PERIOD_Z = 30\n",
    "\n",
    "PLOT = True\n",
    "\n",
    "for ticker in tickers:\n",
    "    try:\n",
    "        data = web.get_data_yahoo(ticker, start, end)\n",
    "        data = data.reset_index()\n",
    "        \n",
    "        data['Quintile'] = pd.qcut(data['Close'], 5, labels=False)\n",
    "        ATR(data, PERIOD_ATR)\n",
    "        data['Z'] = (data['ATR'] - data['ATR'].rolling(PERIOD_Z).mean()) / data['ATR'].rolling(PERIOD_Z).std()\n",
    "        data['Logreturn'] = np.log(data['Adj Close']/data['Adj Close'].shift(1))\n",
    "        data = data.dropna()\n",
    "        #data = data.reset_index()\n",
    "        \n",
    "        if PLOT:\n",
    "       \n",
    "            plt.figure(figsize=(15,10))\n",
    "\n",
    "            plt.subplot(3,1,1)\n",
    "            plt.plot(data['Adj Close'])\n",
    "            plt.title(ticker)\n",
    "            plt.grid(True)\n",
    "        \n",
    "            plt.subplot(3,1,2)\n",
    "            plt.plot(data['Quintile'], c='g')\n",
    "            plt.grid(True)\n",
    "        \n",
    "            plt.subplot(3,1,3)\n",
    "            plt.plot(data['Z'], c='r')\n",
    "            plt.hlines(2, min(data.index), max(data.index), linestyles='dashdot')\n",
    "            plt.hlines(-2, min(data.index),  max(data.index), linestyles='dashdot')\n",
    "            plt.title(f'Z-score({PERIOD_Z}) from ATR({PERIOD_ATR})')\n",
    "            plt.grid(True)\n",
    "\n",
    "            plt.show()\n",
    "        \n",
    "        \n",
    "    except:\n",
    "        print(f'Cannot calculate for {ticker}!')"
   ]
  },
  {
   "cell_type": "code",
   "execution_count": null,
   "id": "a32c9a33",
   "metadata": {},
   "outputs": [],
   "source": []
  }
 ],
 "metadata": {
  "kernelspec": {
   "display_name": "Python 3",
   "language": "python",
   "name": "python3"
  },
  "language_info": {
   "codemirror_mode": {
    "name": "ipython",
    "version": 3
   },
   "file_extension": ".py",
   "mimetype": "text/x-python",
   "name": "python",
   "nbconvert_exporter": "python",
   "pygments_lexer": "ipython3",
   "version": "3.8.5"
  }
 },
 "nbformat": 4,
 "nbformat_minor": 5
}
