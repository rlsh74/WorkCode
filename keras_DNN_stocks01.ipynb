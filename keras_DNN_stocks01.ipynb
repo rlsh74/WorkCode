{
 "cells": [
  {
   "cell_type": "code",
   "execution_count": 164,
   "metadata": {},
   "outputs": [],
   "source": [
    "import pandas as pd\n",
    "from pandas_datareader import data as web\n",
    "from datetime import datetime, timedelta\n",
    "import matplotlib.pyplot as plt\n",
    "import numpy as np"
   ]
  },
  {
   "cell_type": "code",
   "execution_count": 165,
   "metadata": {},
   "outputs": [],
   "source": [
    "def add_lags(data, ticker, lags, window=20):\n",
    "    cols = []\n",
    "    df = data.copy()\n",
    "    df.dropna(inplace=True)\n",
    "    df['r'] = np.log(df['Close'] / df['Close'].shift(1))\n",
    "    df['sma'] = df['Close'].rolling(window).mean()\n",
    "    df['min'] = df['Close'].rolling(window).min()\n",
    "    df['max'] = df['Close'].rolling(window).max()\n",
    "    df['mom'] = df['r'].rolling(window).mean()\n",
    "    df['vol'] = df['r'].rolling(window).std()\n",
    "    df.dropna(inplace=True)\n",
    "    df['d'] = np.where(df['r'] > 0, 1, 0)\n",
    "    \n",
    "    features = ['r', 'd', 'sma', 'min', 'max', 'mom', 'vol']\n",
    "    for f in features:\n",
    "        for lag in range(1, lags + 1):\n",
    "            col = f'{f}_lag_{lag}'\n",
    "            df[col] = df[f].shift(lag)\n",
    "            cols.append(col)\n",
    "    df.dropna(inplace=True)\n",
    "    return df, cols\n"
   ]
  },
  {
   "cell_type": "code",
   "execution_count": 166,
   "metadata": {},
   "outputs": [],
   "source": [
    "start_date = datetime(2015, 3, 11)\n",
    "end_date = datetime(2021, 3, 11)\n",
    "interval = 'd'\n",
    "\n",
    "tickers = ['HON']"
   ]
  },
  {
   "cell_type": "code",
   "execution_count": 167,
   "metadata": {},
   "outputs": [
    {
     "name": "stdout",
     "output_type": "stream",
     "text": [
      "HON\n"
     ]
    }
   ],
   "source": [
    "for ticker in tickers:\n",
    "\n",
    "    try:\n",
    "\n",
    "        data = pd.DataFrame()\n",
    "\n",
    "        #data['Open'] = web.get_data_yahoo(ticker, start=start_date, end=end_date, interval='d')['Open']\n",
    "        #data['High'] = web.get_data_yahoo(ticker, start=start_date, end=end_date, interval='d')['High']\n",
    "        #data['Low'] = web.get_data_yahoo(ticker, start=start_date, end=end_date, interval='d')['Low']\n",
    "        #data['Close'] = web.get_data_yahoo(ticker, start=start_date, end=end_date, interval='d')['Close']\n",
    "        #data['Volume'] = web.get_data_yahoo(ticker, start=start_date, end=end_date, interval='d')['Volume']\n",
    "        \n",
    "        data = web.get_data_yahoo(ticker, start=start_date, end=end_date, interval='d')\n",
    "\n",
    "        data['Ticker'] = ticker\n",
    "        #df['day_of_week'] = df['Date'].dt.dayofweek\n",
    "\n",
    "        #data.reset_index(inplace=True)\n",
    "        \n",
    "        print(ticker)\n",
    "        #df.to_excel(ticker + '_dataset_.xlsx', index=False)\n",
    "\n",
    "    except:\n",
    "        print('Cannot calculate for ticker: ', ticker)"
   ]
  },
  {
   "cell_type": "code",
   "execution_count": 168,
   "metadata": {},
   "outputs": [
    {
     "data": {
      "text/plain": [
       "(1511, 7)"
      ]
     },
     "execution_count": 168,
     "metadata": {},
     "output_type": "execute_result"
    }
   ],
   "source": [
    "data.shape"
   ]
  },
  {
   "cell_type": "code",
   "execution_count": 169,
   "metadata": {},
   "outputs": [],
   "source": [
    "lags = 5\n",
    "data, cols = add_lags(data, ticker, lags, window=20)"
   ]
  },
  {
   "cell_type": "code",
   "execution_count": 170,
   "metadata": {},
   "outputs": [
    {
     "data": {
      "text/html": [
       "<div>\n",
       "<style scoped>\n",
       "    .dataframe tbody tr th:only-of-type {\n",
       "        vertical-align: middle;\n",
       "    }\n",
       "\n",
       "    .dataframe tbody tr th {\n",
       "        vertical-align: top;\n",
       "    }\n",
       "\n",
       "    .dataframe thead th {\n",
       "        text-align: right;\n",
       "    }\n",
       "</style>\n",
       "<table border=\"1\" class=\"dataframe\">\n",
       "  <thead>\n",
       "    <tr style=\"text-align: right;\">\n",
       "      <th></th>\n",
       "      <th>High</th>\n",
       "      <th>Low</th>\n",
       "      <th>Open</th>\n",
       "      <th>Close</th>\n",
       "      <th>Volume</th>\n",
       "      <th>Adj Close</th>\n",
       "      <th>Ticker</th>\n",
       "      <th>r</th>\n",
       "      <th>sma</th>\n",
       "      <th>min</th>\n",
       "      <th>...</th>\n",
       "      <th>mom_lag_1</th>\n",
       "      <th>mom_lag_2</th>\n",
       "      <th>mom_lag_3</th>\n",
       "      <th>mom_lag_4</th>\n",
       "      <th>mom_lag_5</th>\n",
       "      <th>vol_lag_1</th>\n",
       "      <th>vol_lag_2</th>\n",
       "      <th>vol_lag_3</th>\n",
       "      <th>vol_lag_4</th>\n",
       "      <th>vol_lag_5</th>\n",
       "    </tr>\n",
       "    <tr>\n",
       "      <th>Date</th>\n",
       "      <th></th>\n",
       "      <th></th>\n",
       "      <th></th>\n",
       "      <th></th>\n",
       "      <th></th>\n",
       "      <th></th>\n",
       "      <th></th>\n",
       "      <th></th>\n",
       "      <th></th>\n",
       "      <th></th>\n",
       "      <th></th>\n",
       "      <th></th>\n",
       "      <th></th>\n",
       "      <th></th>\n",
       "      <th></th>\n",
       "      <th></th>\n",
       "      <th></th>\n",
       "      <th></th>\n",
       "      <th></th>\n",
       "      <th></th>\n",
       "      <th></th>\n",
       "    </tr>\n",
       "  </thead>\n",
       "  <tbody>\n",
       "    <tr>\n",
       "      <th>2015-04-16</th>\n",
       "      <td>99.312500</td>\n",
       "      <td>98.244728</td>\n",
       "      <td>98.416336</td>\n",
       "      <td>99.074158</td>\n",
       "      <td>3524656.0</td>\n",
       "      <td>87.365273</td>\n",
       "      <td>HON</td>\n",
       "      <td>0.001252</td>\n",
       "      <td>98.941166</td>\n",
       "      <td>97.176956</td>\n",
       "      <td>...</td>\n",
       "      <td>0.000767</td>\n",
       "      <td>0.000228</td>\n",
       "      <td>0.001032</td>\n",
       "      <td>0.001081</td>\n",
       "      <td>0.001824</td>\n",
       "      <td>0.010970</td>\n",
       "      <td>0.011005</td>\n",
       "      <td>0.011539</td>\n",
       "      <td>0.011475</td>\n",
       "      <td>0.012069</td>\n",
       "    </tr>\n",
       "    <tr>\n",
       "      <th>2015-04-17</th>\n",
       "      <td>98.521210</td>\n",
       "      <td>96.156853</td>\n",
       "      <td>98.206596</td>\n",
       "      <td>96.957680</td>\n",
       "      <td>7044802.0</td>\n",
       "      <td>85.498909</td>\n",
       "      <td>HON</td>\n",
       "      <td>-0.021594</td>\n",
       "      <td>98.878244</td>\n",
       "      <td>96.957680</td>\n",
       "      <td>...</td>\n",
       "      <td>0.000039</td>\n",
       "      <td>0.000767</td>\n",
       "      <td>0.000228</td>\n",
       "      <td>0.001032</td>\n",
       "      <td>0.001081</td>\n",
       "      <td>0.010386</td>\n",
       "      <td>0.010970</td>\n",
       "      <td>0.011005</td>\n",
       "      <td>0.011539</td>\n",
       "      <td>0.011475</td>\n",
       "    </tr>\n",
       "    <tr>\n",
       "      <th>2015-04-20</th>\n",
       "      <td>98.044525</td>\n",
       "      <td>97.329498</td>\n",
       "      <td>97.386696</td>\n",
       "      <td>97.796646</td>\n",
       "      <td>3193200.0</td>\n",
       "      <td>86.238724</td>\n",
       "      <td>HON</td>\n",
       "      <td>0.008616</td>\n",
       "      <td>98.743819</td>\n",
       "      <td>96.957680</td>\n",
       "      <td>...</td>\n",
       "      <td>-0.000645</td>\n",
       "      <td>0.000039</td>\n",
       "      <td>0.000767</td>\n",
       "      <td>0.000228</td>\n",
       "      <td>0.001032</td>\n",
       "      <td>0.011343</td>\n",
       "      <td>0.010386</td>\n",
       "      <td>0.010970</td>\n",
       "      <td>0.011005</td>\n",
       "      <td>0.011539</td>\n",
       "    </tr>\n",
       "    <tr>\n",
       "      <th>2015-04-21</th>\n",
       "      <td>98.168457</td>\n",
       "      <td>96.309387</td>\n",
       "      <td>97.901520</td>\n",
       "      <td>96.604935</td>\n",
       "      <td>3313091.0</td>\n",
       "      <td>85.187851</td>\n",
       "      <td>HON</td>\n",
       "      <td>-0.012260</td>\n",
       "      <td>98.602243</td>\n",
       "      <td>96.604935</td>\n",
       "      <td>...</td>\n",
       "      <td>-0.001356</td>\n",
       "      <td>-0.000645</td>\n",
       "      <td>0.000039</td>\n",
       "      <td>0.000767</td>\n",
       "      <td>0.000228</td>\n",
       "      <td>0.010179</td>\n",
       "      <td>0.011343</td>\n",
       "      <td>0.010386</td>\n",
       "      <td>0.010970</td>\n",
       "      <td>0.011005</td>\n",
       "    </tr>\n",
       "    <tr>\n",
       "      <th>2015-04-22</th>\n",
       "      <td>97.577370</td>\n",
       "      <td>96.309387</td>\n",
       "      <td>96.509598</td>\n",
       "      <td>97.424835</td>\n",
       "      <td>3492245.0</td>\n",
       "      <td>85.910873</td>\n",
       "      <td>HON</td>\n",
       "      <td>0.008451</td>\n",
       "      <td>98.513103</td>\n",
       "      <td>96.604935</td>\n",
       "      <td>...</td>\n",
       "      <td>-0.001444</td>\n",
       "      <td>-0.001356</td>\n",
       "      <td>-0.000645</td>\n",
       "      <td>0.000039</td>\n",
       "      <td>0.000767</td>\n",
       "      <td>0.010270</td>\n",
       "      <td>0.010179</td>\n",
       "      <td>0.011343</td>\n",
       "      <td>0.010386</td>\n",
       "      <td>0.010970</td>\n",
       "    </tr>\n",
       "    <tr>\n",
       "      <th>...</th>\n",
       "      <td>...</td>\n",
       "      <td>...</td>\n",
       "      <td>...</td>\n",
       "      <td>...</td>\n",
       "      <td>...</td>\n",
       "      <td>...</td>\n",
       "      <td>...</td>\n",
       "      <td>...</td>\n",
       "      <td>...</td>\n",
       "      <td>...</td>\n",
       "      <td>...</td>\n",
       "      <td>...</td>\n",
       "      <td>...</td>\n",
       "      <td>...</td>\n",
       "      <td>...</td>\n",
       "      <td>...</td>\n",
       "      <td>...</td>\n",
       "      <td>...</td>\n",
       "      <td>...</td>\n",
       "      <td>...</td>\n",
       "      <td>...</td>\n",
       "    </tr>\n",
       "    <tr>\n",
       "      <th>2021-03-04</th>\n",
       "      <td>208.039993</td>\n",
       "      <td>200.509995</td>\n",
       "      <td>207.350006</td>\n",
       "      <td>202.940002</td>\n",
       "      <td>2797700.0</td>\n",
       "      <td>202.940002</td>\n",
       "      <td>HON</td>\n",
       "      <td>-0.019857</td>\n",
       "      <td>203.964999</td>\n",
       "      <td>200.589996</td>\n",
       "      <td>...</td>\n",
       "      <td>0.001692</td>\n",
       "      <td>0.002741</td>\n",
       "      <td>0.002702</td>\n",
       "      <td>-0.000121</td>\n",
       "      <td>0.001339</td>\n",
       "      <td>0.011952</td>\n",
       "      <td>0.012872</td>\n",
       "      <td>0.012877</td>\n",
       "      <td>0.015123</td>\n",
       "      <td>0.015325</td>\n",
       "    </tr>\n",
       "    <tr>\n",
       "      <th>2021-03-05</th>\n",
       "      <td>207.460007</td>\n",
       "      <td>201.779999</td>\n",
       "      <td>204.529999</td>\n",
       "      <td>206.580002</td>\n",
       "      <td>2857800.0</td>\n",
       "      <td>206.580002</td>\n",
       "      <td>HON</td>\n",
       "      <td>0.017777</td>\n",
       "      <td>204.264500</td>\n",
       "      <td>201.899994</td>\n",
       "      <td>...</td>\n",
       "      <td>0.000945</td>\n",
       "      <td>0.001692</td>\n",
       "      <td>0.002741</td>\n",
       "      <td>0.002702</td>\n",
       "      <td>-0.000121</td>\n",
       "      <td>0.012822</td>\n",
       "      <td>0.011952</td>\n",
       "      <td>0.012872</td>\n",
       "      <td>0.012877</td>\n",
       "      <td>0.015123</td>\n",
       "    </tr>\n",
       "    <tr>\n",
       "      <th>2021-03-08</th>\n",
       "      <td>212.449997</td>\n",
       "      <td>207.199997</td>\n",
       "      <td>207.539993</td>\n",
       "      <td>207.699997</td>\n",
       "      <td>3215900.0</td>\n",
       "      <td>207.699997</td>\n",
       "      <td>HON</td>\n",
       "      <td>0.005407</td>\n",
       "      <td>204.503500</td>\n",
       "      <td>201.899994</td>\n",
       "      <td>...</td>\n",
       "      <td>0.001471</td>\n",
       "      <td>0.000945</td>\n",
       "      <td>0.001692</td>\n",
       "      <td>0.002741</td>\n",
       "      <td>0.002702</td>\n",
       "      <td>0.013302</td>\n",
       "      <td>0.012822</td>\n",
       "      <td>0.011952</td>\n",
       "      <td>0.012872</td>\n",
       "      <td>0.012877</td>\n",
       "    </tr>\n",
       "    <tr>\n",
       "      <th>2021-03-09</th>\n",
       "      <td>209.940002</td>\n",
       "      <td>206.490005</td>\n",
       "      <td>208.990005</td>\n",
       "      <td>207.610001</td>\n",
       "      <td>2643300.0</td>\n",
       "      <td>207.610001</td>\n",
       "      <td>HON</td>\n",
       "      <td>-0.000433</td>\n",
       "      <td>204.691000</td>\n",
       "      <td>201.899994</td>\n",
       "      <td>...</td>\n",
       "      <td>0.001164</td>\n",
       "      <td>0.001471</td>\n",
       "      <td>0.000945</td>\n",
       "      <td>0.001692</td>\n",
       "      <td>0.002741</td>\n",
       "      <td>0.013127</td>\n",
       "      <td>0.013302</td>\n",
       "      <td>0.012822</td>\n",
       "      <td>0.011952</td>\n",
       "      <td>0.012872</td>\n",
       "    </tr>\n",
       "    <tr>\n",
       "      <th>2021-03-10</th>\n",
       "      <td>213.270004</td>\n",
       "      <td>207.649994</td>\n",
       "      <td>207.679993</td>\n",
       "      <td>212.910004</td>\n",
       "      <td>4331600.0</td>\n",
       "      <td>212.910004</td>\n",
       "      <td>HON</td>\n",
       "      <td>0.025208</td>\n",
       "      <td>205.235500</td>\n",
       "      <td>201.899994</td>\n",
       "      <td>...</td>\n",
       "      <td>0.000911</td>\n",
       "      <td>0.001164</td>\n",
       "      <td>0.001471</td>\n",
       "      <td>0.000945</td>\n",
       "      <td>0.001692</td>\n",
       "      <td>0.013105</td>\n",
       "      <td>0.013127</td>\n",
       "      <td>0.013302</td>\n",
       "      <td>0.012822</td>\n",
       "      <td>0.011952</td>\n",
       "    </tr>\n",
       "  </tbody>\n",
       "</table>\n",
       "<p>1486 rows × 49 columns</p>\n",
       "</div>"
      ],
      "text/plain": [
       "                  High         Low        Open       Close     Volume  \\\n",
       "Date                                                                    \n",
       "2015-04-16   99.312500   98.244728   98.416336   99.074158  3524656.0   \n",
       "2015-04-17   98.521210   96.156853   98.206596   96.957680  7044802.0   \n",
       "2015-04-20   98.044525   97.329498   97.386696   97.796646  3193200.0   \n",
       "2015-04-21   98.168457   96.309387   97.901520   96.604935  3313091.0   \n",
       "2015-04-22   97.577370   96.309387   96.509598   97.424835  3492245.0   \n",
       "...                ...         ...         ...         ...        ...   \n",
       "2021-03-04  208.039993  200.509995  207.350006  202.940002  2797700.0   \n",
       "2021-03-05  207.460007  201.779999  204.529999  206.580002  2857800.0   \n",
       "2021-03-08  212.449997  207.199997  207.539993  207.699997  3215900.0   \n",
       "2021-03-09  209.940002  206.490005  208.990005  207.610001  2643300.0   \n",
       "2021-03-10  213.270004  207.649994  207.679993  212.910004  4331600.0   \n",
       "\n",
       "             Adj Close Ticker         r         sma         min  ...  \\\n",
       "Date                                                             ...   \n",
       "2015-04-16   87.365273    HON  0.001252   98.941166   97.176956  ...   \n",
       "2015-04-17   85.498909    HON -0.021594   98.878244   96.957680  ...   \n",
       "2015-04-20   86.238724    HON  0.008616   98.743819   96.957680  ...   \n",
       "2015-04-21   85.187851    HON -0.012260   98.602243   96.604935  ...   \n",
       "2015-04-22   85.910873    HON  0.008451   98.513103   96.604935  ...   \n",
       "...                ...    ...       ...         ...         ...  ...   \n",
       "2021-03-04  202.940002    HON -0.019857  203.964999  200.589996  ...   \n",
       "2021-03-05  206.580002    HON  0.017777  204.264500  201.899994  ...   \n",
       "2021-03-08  207.699997    HON  0.005407  204.503500  201.899994  ...   \n",
       "2021-03-09  207.610001    HON -0.000433  204.691000  201.899994  ...   \n",
       "2021-03-10  212.910004    HON  0.025208  205.235500  201.899994  ...   \n",
       "\n",
       "            mom_lag_1  mom_lag_2  mom_lag_3  mom_lag_4  mom_lag_5  vol_lag_1  \\\n",
       "Date                                                                           \n",
       "2015-04-16   0.000767   0.000228   0.001032   0.001081   0.001824   0.010970   \n",
       "2015-04-17   0.000039   0.000767   0.000228   0.001032   0.001081   0.010386   \n",
       "2015-04-20  -0.000645   0.000039   0.000767   0.000228   0.001032   0.011343   \n",
       "2015-04-21  -0.001356  -0.000645   0.000039   0.000767   0.000228   0.010179   \n",
       "2015-04-22  -0.001444  -0.001356  -0.000645   0.000039   0.000767   0.010270   \n",
       "...               ...        ...        ...        ...        ...        ...   \n",
       "2021-03-04   0.001692   0.002741   0.002702  -0.000121   0.001339   0.011952   \n",
       "2021-03-05   0.000945   0.001692   0.002741   0.002702  -0.000121   0.012822   \n",
       "2021-03-08   0.001471   0.000945   0.001692   0.002741   0.002702   0.013302   \n",
       "2021-03-09   0.001164   0.001471   0.000945   0.001692   0.002741   0.013127   \n",
       "2021-03-10   0.000911   0.001164   0.001471   0.000945   0.001692   0.013105   \n",
       "\n",
       "            vol_lag_2  vol_lag_3  vol_lag_4  vol_lag_5  \n",
       "Date                                                    \n",
       "2015-04-16   0.011005   0.011539   0.011475   0.012069  \n",
       "2015-04-17   0.010970   0.011005   0.011539   0.011475  \n",
       "2015-04-20   0.010386   0.010970   0.011005   0.011539  \n",
       "2015-04-21   0.011343   0.010386   0.010970   0.011005  \n",
       "2015-04-22   0.010179   0.011343   0.010386   0.010970  \n",
       "...               ...        ...        ...        ...  \n",
       "2021-03-04   0.012872   0.012877   0.015123   0.015325  \n",
       "2021-03-05   0.011952   0.012872   0.012877   0.015123  \n",
       "2021-03-08   0.012822   0.011952   0.012872   0.012877  \n",
       "2021-03-09   0.013302   0.012822   0.011952   0.012872  \n",
       "2021-03-10   0.013127   0.013302   0.012822   0.011952  \n",
       "\n",
       "[1486 rows x 49 columns]"
      ]
     },
     "execution_count": 170,
     "metadata": {},
     "output_type": "execute_result"
    }
   ],
   "source": [
    "data"
   ]
  },
  {
   "cell_type": "code",
   "execution_count": 171,
   "metadata": {},
   "outputs": [],
   "source": [
    "#Define some useful fumctions\n",
    "import random\n",
    "import tensorflow as tf\n",
    "from keras.layers import Dense, Dropout\n",
    "from keras.models import Sequential\n",
    "from keras.regularizers import l1\n",
    "from keras.optimizers import Adam\n",
    "from sklearn.metrics import accuracy_score\n",
    "\n",
    "def set_seeds(seed=100):\n",
    "    random.seed(seed)\n",
    "    np.random.seed(seed)\n",
    "    tf.random.set_seed(seed)\n",
    "set_seeds()"
   ]
  },
  {
   "cell_type": "code",
   "execution_count": 172,
   "metadata": {},
   "outputs": [],
   "source": [
    "optimizer = Adam(learning_rate=0.0001)"
   ]
  },
  {
   "cell_type": "code",
   "execution_count": 173,
   "metadata": {},
   "outputs": [],
   "source": [
    "def create_model(hl=2, hu=128, dropout=False, rate=0.3, regularize=False, reg=l1(0.0005), \n",
    "                optimizer=optimizer, input_dim=len(cols)):\n",
    "    \n",
    "    if not regularize:\n",
    "        reg = None\n",
    "    \n",
    "    model = Sequential()\n",
    "    model.add(Dense(hu, input_dim=input_dim, activity_regularizer=reg, activation='relu'))\n",
    "    \n",
    "    if dropout:\n",
    "        model.add(Dropout(rate, seed=100))\n",
    "    \n",
    "    for _ in range(hl):\n",
    "        model.add(Dense(hu, activity_regularizer=reg, activation='relu'))\n",
    "        \n",
    "        if dropout:\n",
    "            model.add(Dropout(rate, seed=100))\n",
    "    \n",
    "    model.add(Dense(1, activation='sigmoid'))\n",
    "    model.compile(loss='binary_crossentropy', optimizer=optimizer, metrics=['accuracy'])\n",
    "    \n",
    "    return model\n",
    "    "
   ]
  },
  {
   "cell_type": "code",
   "execution_count": 174,
   "metadata": {},
   "outputs": [],
   "source": [
    "#Splits the datd\n",
    "split = '2020-01-01'\n",
    "train = data.loc[:split].copy()\n",
    "train.drop(['Ticker'], axis=1, inplace=True)"
   ]
  },
  {
   "cell_type": "code",
   "execution_count": 175,
   "metadata": {},
   "outputs": [
    {
     "data": {
      "text/plain": [
       "array([539, 648], dtype=int64)"
      ]
     },
     "execution_count": 175,
     "metadata": {},
     "output_type": "execute_result"
    }
   ],
   "source": [
    "#Shows the frequency of the labels data\n",
    "np.bincount(train['d'])"
   ]
  },
  {
   "cell_type": "code",
   "execution_count": 176,
   "metadata": {},
   "outputs": [],
   "source": [
    "#Normalize the training features data\n",
    "mu, std = train.mean(), train.std()\n",
    "train_ = (train - mu) / std"
   ]
  },
  {
   "cell_type": "code",
   "execution_count": 177,
   "metadata": {},
   "outputs": [
    {
     "data": {
      "text/html": [
       "<div>\n",
       "<style scoped>\n",
       "    .dataframe tbody tr th:only-of-type {\n",
       "        vertical-align: middle;\n",
       "    }\n",
       "\n",
       "    .dataframe tbody tr th {\n",
       "        vertical-align: top;\n",
       "    }\n",
       "\n",
       "    .dataframe thead th {\n",
       "        text-align: right;\n",
       "    }\n",
       "</style>\n",
       "<table border=\"1\" class=\"dataframe\">\n",
       "  <thead>\n",
       "    <tr style=\"text-align: right;\">\n",
       "      <th></th>\n",
       "      <th>High</th>\n",
       "      <th>Low</th>\n",
       "      <th>Open</th>\n",
       "      <th>Close</th>\n",
       "      <th>Volume</th>\n",
       "      <th>Adj Close</th>\n",
       "      <th>r</th>\n",
       "      <th>sma</th>\n",
       "      <th>min</th>\n",
       "      <th>max</th>\n",
       "      <th>...</th>\n",
       "      <th>mom_lag_1</th>\n",
       "      <th>mom_lag_2</th>\n",
       "      <th>mom_lag_3</th>\n",
       "      <th>mom_lag_4</th>\n",
       "      <th>mom_lag_5</th>\n",
       "      <th>vol_lag_1</th>\n",
       "      <th>vol_lag_2</th>\n",
       "      <th>vol_lag_3</th>\n",
       "      <th>vol_lag_4</th>\n",
       "      <th>vol_lag_5</th>\n",
       "    </tr>\n",
       "    <tr>\n",
       "      <th>Date</th>\n",
       "      <th></th>\n",
       "      <th></th>\n",
       "      <th></th>\n",
       "      <th></th>\n",
       "      <th></th>\n",
       "      <th></th>\n",
       "      <th></th>\n",
       "      <th></th>\n",
       "      <th></th>\n",
       "      <th></th>\n",
       "      <th></th>\n",
       "      <th></th>\n",
       "      <th></th>\n",
       "      <th></th>\n",
       "      <th></th>\n",
       "      <th></th>\n",
       "      <th></th>\n",
       "      <th></th>\n",
       "      <th></th>\n",
       "      <th></th>\n",
       "      <th></th>\n",
       "    </tr>\n",
       "  </thead>\n",
       "  <tbody>\n",
       "    <tr>\n",
       "      <th>2015-04-16</th>\n",
       "      <td>-1.255215</td>\n",
       "      <td>-1.242594</td>\n",
       "      <td>-1.263200</td>\n",
       "      <td>-1.238818</td>\n",
       "      <td>0.314178</td>\n",
       "      <td>-1.273551</td>\n",
       "      <td>0.070002</td>\n",
       "      <td>-1.234282</td>\n",
       "      <td>-1.186919</td>\n",
       "      <td>-1.266717</td>\n",
       "      <td>...</td>\n",
       "      <td>0.133444</td>\n",
       "      <td>-0.120903</td>\n",
       "      <td>0.257379</td>\n",
       "      <td>0.280003</td>\n",
       "      <td>0.629441</td>\n",
       "      <td>0.188327</td>\n",
       "      <td>0.196453</td>\n",
       "      <td>0.330162</td>\n",
       "      <td>0.313412</td>\n",
       "      <td>0.462052</td>\n",
       "    </tr>\n",
       "    <tr>\n",
       "      <th>2015-04-17</th>\n",
       "      <td>-1.285995</td>\n",
       "      <td>-1.324772</td>\n",
       "      <td>-1.271399</td>\n",
       "      <td>-1.321666</td>\n",
       "      <td>2.832490</td>\n",
       "      <td>-1.342445</td>\n",
       "      <td>-2.029400</td>\n",
       "      <td>-1.236774</td>\n",
       "      <td>-1.195929</td>\n",
       "      <td>-1.266717</td>\n",
       "      <td>...</td>\n",
       "      <td>-0.209939</td>\n",
       "      <td>0.133129</td>\n",
       "      <td>-0.121657</td>\n",
       "      <td>0.256779</td>\n",
       "      <td>0.279217</td>\n",
       "      <td>0.041470</td>\n",
       "      <td>0.187756</td>\n",
       "      <td>0.195774</td>\n",
       "      <td>0.329522</td>\n",
       "      <td>0.312699</td>\n",
       "    </tr>\n",
       "    <tr>\n",
       "      <th>2015-04-20</th>\n",
       "      <td>-1.304538</td>\n",
       "      <td>-1.278617</td>\n",
       "      <td>-1.303450</td>\n",
       "      <td>-1.288825</td>\n",
       "      <td>0.077054</td>\n",
       "      <td>-1.315136</td>\n",
       "      <td>0.746716</td>\n",
       "      <td>-1.242098</td>\n",
       "      <td>-1.195929</td>\n",
       "      <td>-1.284523</td>\n",
       "      <td>...</td>\n",
       "      <td>-0.532012</td>\n",
       "      <td>-0.210289</td>\n",
       "      <td>0.132408</td>\n",
       "      <td>-0.122276</td>\n",
       "      <td>0.255997</td>\n",
       "      <td>0.282104</td>\n",
       "      <td>0.040886</td>\n",
       "      <td>0.187077</td>\n",
       "      <td>0.195127</td>\n",
       "      <td>0.328809</td>\n",
       "    </tr>\n",
       "    <tr>\n",
       "      <th>2015-04-21</th>\n",
       "      <td>-1.299717</td>\n",
       "      <td>-1.318768</td>\n",
       "      <td>-1.283325</td>\n",
       "      <td>-1.335474</td>\n",
       "      <td>0.162824</td>\n",
       "      <td>-1.353927</td>\n",
       "      <td>-1.171693</td>\n",
       "      <td>-1.247706</td>\n",
       "      <td>-1.210423</td>\n",
       "      <td>-1.284523</td>\n",
       "      <td>...</td>\n",
       "      <td>-0.867234</td>\n",
       "      <td>-0.532396</td>\n",
       "      <td>-0.211055</td>\n",
       "      <td>0.131802</td>\n",
       "      <td>-0.123006</td>\n",
       "      <td>-0.010459</td>\n",
       "      <td>0.281541</td>\n",
       "      <td>0.040199</td>\n",
       "      <td>0.186430</td>\n",
       "      <td>0.194418</td>\n",
       "    </tr>\n",
       "    <tr>\n",
       "      <th>2015-04-22</th>\n",
       "      <td>-1.322709</td>\n",
       "      <td>-1.318768</td>\n",
       "      <td>-1.337737</td>\n",
       "      <td>-1.303380</td>\n",
       "      <td>0.290991</td>\n",
       "      <td>-1.327238</td>\n",
       "      <td>0.731612</td>\n",
       "      <td>-1.251237</td>\n",
       "      <td>-1.210423</td>\n",
       "      <td>-1.284523</td>\n",
       "      <td>...</td>\n",
       "      <td>-0.908929</td>\n",
       "      <td>-0.867653</td>\n",
       "      <td>-0.533205</td>\n",
       "      <td>-0.211679</td>\n",
       "      <td>0.131037</td>\n",
       "      <td>0.012380</td>\n",
       "      <td>-0.011048</td>\n",
       "      <td>0.280867</td>\n",
       "      <td>0.039544</td>\n",
       "      <td>0.185721</td>\n",
       "    </tr>\n",
       "    <tr>\n",
       "      <th>...</th>\n",
       "      <td>...</td>\n",
       "      <td>...</td>\n",
       "      <td>...</td>\n",
       "      <td>...</td>\n",
       "      <td>...</td>\n",
       "      <td>...</td>\n",
       "      <td>...</td>\n",
       "      <td>...</td>\n",
       "      <td>...</td>\n",
       "      <td>...</td>\n",
       "      <td>...</td>\n",
       "      <td>...</td>\n",
       "      <td>...</td>\n",
       "      <td>...</td>\n",
       "      <td>...</td>\n",
       "      <td>...</td>\n",
       "      <td>...</td>\n",
       "      <td>...</td>\n",
       "      <td>...</td>\n",
       "      <td>...</td>\n",
       "      <td>...</td>\n",
       "    </tr>\n",
       "    <tr>\n",
       "      <th>2019-12-24</th>\n",
       "      <td>1.760864</td>\n",
       "      <td>1.807186</td>\n",
       "      <td>1.786869</td>\n",
       "      <td>1.784532</td>\n",
       "      <td>-1.759878</td>\n",
       "      <td>1.833291</td>\n",
       "      <td>-0.107542</td>\n",
       "      <td>1.814681</td>\n",
       "      <td>1.910154</td>\n",
       "      <td>1.742050</td>\n",
       "      <td>...</td>\n",
       "      <td>-0.276127</td>\n",
       "      <td>-0.244467</td>\n",
       "      <td>-0.325176</td>\n",
       "      <td>-0.958203</td>\n",
       "      <td>-0.640492</td>\n",
       "      <td>-0.367866</td>\n",
       "      <td>-0.366722</td>\n",
       "      <td>-0.356772</td>\n",
       "      <td>-0.280406</td>\n",
       "      <td>-0.356205</td>\n",
       "    </tr>\n",
       "    <tr>\n",
       "      <th>2019-12-26</th>\n",
       "      <td>1.762809</td>\n",
       "      <td>1.806792</td>\n",
       "      <td>1.791560</td>\n",
       "      <td>1.806844</td>\n",
       "      <td>-1.299018</td>\n",
       "      <td>1.853761</td>\n",
       "      <td>0.251594</td>\n",
       "      <td>1.811433</td>\n",
       "      <td>1.910154</td>\n",
       "      <td>1.742050</td>\n",
       "      <td>...</td>\n",
       "      <td>-0.254806</td>\n",
       "      <td>-0.276485</td>\n",
       "      <td>-0.245237</td>\n",
       "      <td>-0.325805</td>\n",
       "      <td>-0.958816</td>\n",
       "      <td>-0.369307</td>\n",
       "      <td>-0.368487</td>\n",
       "      <td>-0.367431</td>\n",
       "      <td>-0.357446</td>\n",
       "      <td>-0.281100</td>\n",
       "    </tr>\n",
       "    <tr>\n",
       "      <th>2019-12-27</th>\n",
       "      <td>1.776035</td>\n",
       "      <td>1.829227</td>\n",
       "      <td>1.811888</td>\n",
       "      <td>1.791186</td>\n",
       "      <td>-1.274551</td>\n",
       "      <td>1.839397</td>\n",
       "      <td>-0.253074</td>\n",
       "      <td>1.805610</td>\n",
       "      <td>1.910154</td>\n",
       "      <td>1.708888</td>\n",
       "      <td>...</td>\n",
       "      <td>-0.445596</td>\n",
       "      <td>-0.255161</td>\n",
       "      <td>-0.277260</td>\n",
       "      <td>-0.245863</td>\n",
       "      <td>-0.326507</td>\n",
       "      <td>-0.463541</td>\n",
       "      <td>-0.369928</td>\n",
       "      <td>-0.369197</td>\n",
       "      <td>-0.368106</td>\n",
       "      <td>-0.358138</td>\n",
       "    </tr>\n",
       "    <tr>\n",
       "      <th>2019-12-30</th>\n",
       "      <td>1.766699</td>\n",
       "      <td>1.808367</td>\n",
       "      <td>1.791560</td>\n",
       "      <td>1.788838</td>\n",
       "      <td>-1.012572</td>\n",
       "      <td>1.837240</td>\n",
       "      <td>-0.076267</td>\n",
       "      <td>1.801392</td>\n",
       "      <td>1.910154</td>\n",
       "      <td>1.664672</td>\n",
       "      <td>...</td>\n",
       "      <td>-0.617469</td>\n",
       "      <td>-0.445971</td>\n",
       "      <td>-0.255933</td>\n",
       "      <td>-0.277887</td>\n",
       "      <td>-0.246576</td>\n",
       "      <td>-0.487011</td>\n",
       "      <td>-0.464171</td>\n",
       "      <td>-0.370637</td>\n",
       "      <td>-0.369871</td>\n",
       "      <td>-0.368797</td>\n",
       "    </tr>\n",
       "    <tr>\n",
       "      <th>2019-12-31</th>\n",
       "      <td>1.769811</td>\n",
       "      <td>1.796559</td>\n",
       "      <td>1.787651</td>\n",
       "      <td>1.811541</td>\n",
       "      <td>-0.970506</td>\n",
       "      <td>1.858070</td>\n",
       "      <td>0.256598</td>\n",
       "      <td>1.806699</td>\n",
       "      <td>1.910154</td>\n",
       "      <td>1.664672</td>\n",
       "      <td>...</td>\n",
       "      <td>-0.510927</td>\n",
       "      <td>-0.617863</td>\n",
       "      <td>-0.446768</td>\n",
       "      <td>-0.256559</td>\n",
       "      <td>-0.278595</td>\n",
       "      <td>-0.500684</td>\n",
       "      <td>-0.487643</td>\n",
       "      <td>-0.464885</td>\n",
       "      <td>-0.371312</td>\n",
       "      <td>-0.370562</td>\n",
       "    </tr>\n",
       "  </tbody>\n",
       "</table>\n",
       "<p>1187 rows × 48 columns</p>\n",
       "</div>"
      ],
      "text/plain": [
       "                High       Low      Open     Close    Volume  Adj Close  \\\n",
       "Date                                                                      \n",
       "2015-04-16 -1.255215 -1.242594 -1.263200 -1.238818  0.314178  -1.273551   \n",
       "2015-04-17 -1.285995 -1.324772 -1.271399 -1.321666  2.832490  -1.342445   \n",
       "2015-04-20 -1.304538 -1.278617 -1.303450 -1.288825  0.077054  -1.315136   \n",
       "2015-04-21 -1.299717 -1.318768 -1.283325 -1.335474  0.162824  -1.353927   \n",
       "2015-04-22 -1.322709 -1.318768 -1.337737 -1.303380  0.290991  -1.327238   \n",
       "...              ...       ...       ...       ...       ...        ...   \n",
       "2019-12-24  1.760864  1.807186  1.786869  1.784532 -1.759878   1.833291   \n",
       "2019-12-26  1.762809  1.806792  1.791560  1.806844 -1.299018   1.853761   \n",
       "2019-12-27  1.776035  1.829227  1.811888  1.791186 -1.274551   1.839397   \n",
       "2019-12-30  1.766699  1.808367  1.791560  1.788838 -1.012572   1.837240   \n",
       "2019-12-31  1.769811  1.796559  1.787651  1.811541 -0.970506   1.858070   \n",
       "\n",
       "                   r       sma       min       max  ...  mom_lag_1  mom_lag_2  \\\n",
       "Date                                                ...                         \n",
       "2015-04-16  0.070002 -1.234282 -1.186919 -1.266717  ...   0.133444  -0.120903   \n",
       "2015-04-17 -2.029400 -1.236774 -1.195929 -1.266717  ...  -0.209939   0.133129   \n",
       "2015-04-20  0.746716 -1.242098 -1.195929 -1.284523  ...  -0.532012  -0.210289   \n",
       "2015-04-21 -1.171693 -1.247706 -1.210423 -1.284523  ...  -0.867234  -0.532396   \n",
       "2015-04-22  0.731612 -1.251237 -1.210423 -1.284523  ...  -0.908929  -0.867653   \n",
       "...              ...       ...       ...       ...  ...        ...        ...   \n",
       "2019-12-24 -0.107542  1.814681  1.910154  1.742050  ...  -0.276127  -0.244467   \n",
       "2019-12-26  0.251594  1.811433  1.910154  1.742050  ...  -0.254806  -0.276485   \n",
       "2019-12-27 -0.253074  1.805610  1.910154  1.708888  ...  -0.445596  -0.255161   \n",
       "2019-12-30 -0.076267  1.801392  1.910154  1.664672  ...  -0.617469  -0.445971   \n",
       "2019-12-31  0.256598  1.806699  1.910154  1.664672  ...  -0.510927  -0.617863   \n",
       "\n",
       "            mom_lag_3  mom_lag_4  mom_lag_5  vol_lag_1  vol_lag_2  vol_lag_3  \\\n",
       "Date                                                                           \n",
       "2015-04-16   0.257379   0.280003   0.629441   0.188327   0.196453   0.330162   \n",
       "2015-04-17  -0.121657   0.256779   0.279217   0.041470   0.187756   0.195774   \n",
       "2015-04-20   0.132408  -0.122276   0.255997   0.282104   0.040886   0.187077   \n",
       "2015-04-21  -0.211055   0.131802  -0.123006  -0.010459   0.281541   0.040199   \n",
       "2015-04-22  -0.533205  -0.211679   0.131037   0.012380  -0.011048   0.280867   \n",
       "...               ...        ...        ...        ...        ...        ...   \n",
       "2019-12-24  -0.325176  -0.958203  -0.640492  -0.367866  -0.366722  -0.356772   \n",
       "2019-12-26  -0.245237  -0.325805  -0.958816  -0.369307  -0.368487  -0.367431   \n",
       "2019-12-27  -0.277260  -0.245863  -0.326507  -0.463541  -0.369928  -0.369197   \n",
       "2019-12-30  -0.255933  -0.277887  -0.246576  -0.487011  -0.464171  -0.370637   \n",
       "2019-12-31  -0.446768  -0.256559  -0.278595  -0.500684  -0.487643  -0.464885   \n",
       "\n",
       "            vol_lag_4  vol_lag_5  \n",
       "Date                              \n",
       "2015-04-16   0.313412   0.462052  \n",
       "2015-04-17   0.329522   0.312699  \n",
       "2015-04-20   0.195127   0.328809  \n",
       "2015-04-21   0.186430   0.194418  \n",
       "2015-04-22   0.039544   0.185721  \n",
       "...               ...        ...  \n",
       "2019-12-24  -0.280406  -0.356205  \n",
       "2019-12-26  -0.357446  -0.281100  \n",
       "2019-12-27  -0.368106  -0.358138  \n",
       "2019-12-30  -0.369871  -0.368797  \n",
       "2019-12-31  -0.371312  -0.370562  \n",
       "\n",
       "[1187 rows x 48 columns]"
      ]
     },
     "execution_count": 177,
     "metadata": {},
     "output_type": "execute_result"
    }
   ],
   "source": [
    "train_"
   ]
  },
  {
   "cell_type": "raw",
   "metadata": {},
   "source": []
  },
  {
   "cell_type": "code",
   "execution_count": 178,
   "metadata": {},
   "outputs": [],
   "source": [
    "#Create the DNN model\n",
    "set_seeds()\n",
    "model = create_model(hl=2, hu=64)"
   ]
  },
  {
   "cell_type": "code",
   "execution_count": 179,
   "metadata": {},
   "outputs": [
    {
     "name": "stdout",
     "output_type": "stream",
     "text": [
      "Wall time: 2.54 s\n"
     ]
    },
    {
     "data": {
      "text/plain": [
       "<tensorflow.python.keras.callbacks.History at 0x1640214b700>"
      ]
     },
     "execution_count": 179,
     "metadata": {},
     "output_type": "execute_result"
    }
   ],
   "source": [
    "%%time\n",
    "#Train the DNN model on the training data\n",
    "model.fit(train_[cols], train['d'], epochs=20, verbose=False, validation_split=0.2, shuffle=False)"
   ]
  },
  {
   "cell_type": "code",
   "execution_count": 180,
   "metadata": {},
   "outputs": [
    {
     "name": "stdout",
     "output_type": "stream",
     "text": [
      "38/38 [==============================] - 0s 704us/step - loss: 0.6689 - accuracy: 0.6099\n"
     ]
    },
    {
     "data": {
      "text/plain": [
       "[0.6688817739486694, 0.6099410057067871]"
      ]
     },
     "execution_count": 180,
     "metadata": {},
     "output_type": "execute_result"
    }
   ],
   "source": [
    "#Evaluate the performance of the model on the training data\n",
    "model.evaluate(train_[cols], train['d'])"
   ]
  },
  {
   "cell_type": "code",
   "execution_count": 181,
   "metadata": {},
   "outputs": [],
   "source": [
    "#Vectorized backtest\n",
    "\n",
    "# Generate the binary predictions\n",
    "train['p'] = np.where(model.predict(train_[cols]) > 0.5, 1, 0)\n",
    "\n",
    "#Translate the predictions into position values:\n",
    "train['p'] = np.where(train['p'] ==1, 1, -1)\n",
    "\n",
    "#Show the number of long and short positions\n",
    "#train['p'].value_counts()\n",
    "\n",
    "#Calculate the strategy performance values\n",
    "train['s'] = train['p'] * train['r']"
   ]
  },
  {
   "cell_type": "code",
   "execution_count": 182,
   "metadata": {},
   "outputs": [
    {
     "data": {
      "text/plain": [
       "r    1.788778\n",
       "s    4.166668\n",
       "dtype: float64"
      ]
     },
     "execution_count": 182,
     "metadata": {},
     "output_type": "execute_result"
    }
   ],
   "source": [
    "#Calculates the gross and net performances (in-sample)\n",
    "train[['r', 's']].sum().apply(np.exp)"
   ]
  },
  {
   "cell_type": "code",
   "execution_count": 183,
   "metadata": {},
   "outputs": [
    {
     "data": {
      "text/plain": [
       "r    0.788778\n",
       "s    3.166668\n",
       "dtype: float64"
      ]
     },
     "execution_count": 183,
     "metadata": {},
     "output_type": "execute_result"
    }
   ],
   "source": [
    "#Calculates the gross and net performances (in-sample)\n",
    "train[['r', 's']].sum().apply(np.exp) - 1"
   ]
  },
  {
   "cell_type": "code",
   "execution_count": 184,
   "metadata": {},
   "outputs": [
    {
     "data": {
      "image/png": "[encoded data removed]",
      "text/plain": [
       "<Figure size 1080x576 with 1 Axes>"
      ]
     },
     "metadata": {
      "needs_background": "light"
     },
     "output_type": "display_data"
    }
   ],
   "source": [
    "#Visualize the gross performancees over time\n",
    "train[['r', 's']].cumsum().apply(np.exp).plot(figsize=(15, 8));"
   ]
  },
  {
   "cell_type": "code",
   "execution_count": 185,
   "metadata": {},
   "outputs": [],
   "source": [
    "#Do the same on test data set\n",
    "test = data.loc[split:].copy()\n",
    "test.drop(['Ticker'], axis=1, inplace=True)"
   ]
  },
  {
   "cell_type": "code",
   "execution_count": 186,
   "metadata": {},
   "outputs": [],
   "source": [
    "#Normalize the test data\n",
    "test_ = (test - mu) /std"
   ]
  },
  {
   "cell_type": "code",
   "execution_count": 187,
   "metadata": {},
   "outputs": [
    {
     "name": "stdout",
     "output_type": "stream",
     "text": [
      "10/10 [==============================] - 0s 1ms/step - loss: 0.7523 - accuracy: 0.5017\n"
     ]
    },
    {
     "data": {
      "text/plain": [
       "[0.7523197531700134, 0.5016722679138184]"
      ]
     },
     "execution_count": 187,
     "metadata": {},
     "output_type": "execute_result"
    }
   ],
   "source": [
    "model.evaluate(test_[cols], test['d'])"
   ]
  },
  {
   "cell_type": "code",
   "execution_count": 188,
   "metadata": {},
   "outputs": [],
   "source": [
    "test['p'] = np.where(model.predict(test_[cols]) > 0.5, 1, -1)"
   ]
  },
  {
   "cell_type": "code",
   "execution_count": 189,
   "metadata": {},
   "outputs": [
    {
     "data": {
      "text/plain": [
       " 1    185\n",
       "-1    114\n",
       "Name: p, dtype: int64"
      ]
     },
     "execution_count": 189,
     "metadata": {},
     "output_type": "execute_result"
    }
   ],
   "source": [
    "test['p'].value_counts()"
   ]
  },
  {
   "cell_type": "code",
   "execution_count": 190,
   "metadata": {},
   "outputs": [],
   "source": [
    "test['s'] = test['p'] * test['r']"
   ]
  },
  {
   "cell_type": "code",
   "execution_count": 191,
   "metadata": {},
   "outputs": [
    {
     "data": {
      "text/plain": [
       "r    1.202881\n",
       "s    0.850816\n",
       "dtype: float64"
      ]
     },
     "execution_count": 191,
     "metadata": {},
     "output_type": "execute_result"
    }
   ],
   "source": [
    "test[['r', 's']].sum().apply(np.exp)"
   ]
  },
  {
   "cell_type": "code",
   "execution_count": 192,
   "metadata": {},
   "outputs": [
    {
     "data": {
      "text/plain": [
       "r    0.202881\n",
       "s   -0.149184\n",
       "dtype: float64"
      ]
     },
     "execution_count": 192,
     "metadata": {},
     "output_type": "execute_result"
    }
   ],
   "source": [
    "test[['r', 's']].sum().apply(np.exp) - 1"
   ]
  },
  {
   "cell_type": "code",
   "execution_count": 193,
   "metadata": {},
   "outputs": [
    {
     "data": {
      "text/plain": [
       "((299, 50), (299, 48), (299,), (299,))"
      ]
     },
     "execution_count": 193,
     "metadata": {},
     "output_type": "execute_result"
    }
   ],
   "source": [
    "test.shape, test_.shape, test['r'].shape, test['s'].shape"
   ]
  },
  {
   "cell_type": "code",
   "execution_count": 194,
   "metadata": {},
   "outputs": [
    {
     "data": {
      "image/png": "[encoded data removed]",
      "text/plain": [
       "<Figure size 1080x576 with 1 Axes>"
      ]
     },
     "metadata": {
      "needs_background": "light"
     },
     "output_type": "display_data"
    }
   ],
   "source": [
    "test[['r', 's']].cumsum().apply(np.exp).plot(figsize=(15, 8));"
   ]
  },
  {
   "cell_type": "code",
   "execution_count": null,
   "metadata": {},
   "outputs": [],
   "source": []
  },
  {
   "cell_type": "code",
   "execution_count": null,
   "metadata": {},
   "outputs": [],
   "source": []
  },
  {
   "cell_type": "code",
   "execution_count": 195,
   "metadata": {},
   "outputs": [
    {
     "ename": "KeyError",
     "evalue": "\"['SMA1', 'SMA2'] not in index\"",
     "output_type": "error",
     "traceback": [
      "\u001b[1;31m---------------------------------------------------------------------------\u001b[0m",
      "\u001b[1;31mKeyError\u001b[0m                                  Traceback (most recent call last)",
      "\u001b[1;32m<ipython-input-195-89cebe854fa5>\u001b[0m in \u001b[0;36m<module>\u001b[1;34m\u001b[0m\n\u001b[1;32m----> 1\u001b[1;33m \u001b[0mdata\u001b[0m\u001b[1;33m[\u001b[0m\u001b[1;33m[\u001b[0m\u001b[1;34m'Close'\u001b[0m\u001b[1;33m,\u001b[0m \u001b[1;34m'SMA1'\u001b[0m\u001b[1;33m,\u001b[0m \u001b[1;34m'SMA2'\u001b[0m\u001b[1;33m]\u001b[0m\u001b[1;33m]\u001b[0m\u001b[1;33m.\u001b[0m\u001b[0mplot\u001b[0m\u001b[1;33m(\u001b[0m\u001b[0mfigsize\u001b[0m\u001b[1;33m=\u001b[0m\u001b[1;33m(\u001b[0m\u001b[1;36m15\u001b[0m\u001b[1;33m,\u001b[0m \u001b[1;36m8\u001b[0m\u001b[1;33m)\u001b[0m\u001b[1;33m)\u001b[0m\u001b[1;33m\u001b[0m\u001b[1;33m\u001b[0m\u001b[0m\n\u001b[0m",
      "\u001b[1;32mC:\\ProgramData\\Anaconda3\\lib\\site-packages\\pandas\\core\\frame.py\u001b[0m in \u001b[0;36m__getitem__\u001b[1;34m(self, key)\u001b[0m\n\u001b[0;32m   3028\u001b[0m             \u001b[1;32mif\u001b[0m \u001b[0mis_iterator\u001b[0m\u001b[1;33m(\u001b[0m\u001b[0mkey\u001b[0m\u001b[1;33m)\u001b[0m\u001b[1;33m:\u001b[0m\u001b[1;33m\u001b[0m\u001b[1;33m\u001b[0m\u001b[0m\n\u001b[0;32m   3029\u001b[0m                 \u001b[0mkey\u001b[0m \u001b[1;33m=\u001b[0m \u001b[0mlist\u001b[0m\u001b[1;33m(\u001b[0m\u001b[0mkey\u001b[0m\u001b[1;33m)\u001b[0m\u001b[1;33m\u001b[0m\u001b[1;33m\u001b[0m\u001b[0m\n\u001b[1;32m-> 3030\u001b[1;33m             \u001b[0mindexer\u001b[0m \u001b[1;33m=\u001b[0m \u001b[0mself\u001b[0m\u001b[1;33m.\u001b[0m\u001b[0mloc\u001b[0m\u001b[1;33m.\u001b[0m\u001b[0m_get_listlike_indexer\u001b[0m\u001b[1;33m(\u001b[0m\u001b[0mkey\u001b[0m\u001b[1;33m,\u001b[0m \u001b[0maxis\u001b[0m\u001b[1;33m=\u001b[0m\u001b[1;36m1\u001b[0m\u001b[1;33m,\u001b[0m \u001b[0mraise_missing\u001b[0m\u001b[1;33m=\u001b[0m\u001b[1;32mTrue\u001b[0m\u001b[1;33m)\u001b[0m\u001b[1;33m[\u001b[0m\u001b[1;36m1\u001b[0m\u001b[1;33m]\u001b[0m\u001b[1;33m\u001b[0m\u001b[1;33m\u001b[0m\u001b[0m\n\u001b[0m\u001b[0;32m   3031\u001b[0m \u001b[1;33m\u001b[0m\u001b[0m\n\u001b[0;32m   3032\u001b[0m         \u001b[1;31m# take() does not accept boolean indexers\u001b[0m\u001b[1;33m\u001b[0m\u001b[1;33m\u001b[0m\u001b[1;33m\u001b[0m\u001b[0m\n",
      "\u001b[1;32mC:\\ProgramData\\Anaconda3\\lib\\site-packages\\pandas\\core\\indexing.py\u001b[0m in \u001b[0;36m_get_listlike_indexer\u001b[1;34m(self, key, axis, raise_missing)\u001b[0m\n\u001b[0;32m   1264\u001b[0m             \u001b[0mkeyarr\u001b[0m\u001b[1;33m,\u001b[0m \u001b[0mindexer\u001b[0m\u001b[1;33m,\u001b[0m \u001b[0mnew_indexer\u001b[0m \u001b[1;33m=\u001b[0m \u001b[0max\u001b[0m\u001b[1;33m.\u001b[0m\u001b[0m_reindex_non_unique\u001b[0m\u001b[1;33m(\u001b[0m\u001b[0mkeyarr\u001b[0m\u001b[1;33m)\u001b[0m\u001b[1;33m\u001b[0m\u001b[1;33m\u001b[0m\u001b[0m\n\u001b[0;32m   1265\u001b[0m \u001b[1;33m\u001b[0m\u001b[0m\n\u001b[1;32m-> 1266\u001b[1;33m         \u001b[0mself\u001b[0m\u001b[1;33m.\u001b[0m\u001b[0m_validate_read_indexer\u001b[0m\u001b[1;33m(\u001b[0m\u001b[0mkeyarr\u001b[0m\u001b[1;33m,\u001b[0m \u001b[0mindexer\u001b[0m\u001b[1;33m,\u001b[0m \u001b[0maxis\u001b[0m\u001b[1;33m,\u001b[0m \u001b[0mraise_missing\u001b[0m\u001b[1;33m=\u001b[0m\u001b[0mraise_missing\u001b[0m\u001b[1;33m)\u001b[0m\u001b[1;33m\u001b[0m\u001b[1;33m\u001b[0m\u001b[0m\n\u001b[0m\u001b[0;32m   1267\u001b[0m         \u001b[1;32mreturn\u001b[0m \u001b[0mkeyarr\u001b[0m\u001b[1;33m,\u001b[0m \u001b[0mindexer\u001b[0m\u001b[1;33m\u001b[0m\u001b[1;33m\u001b[0m\u001b[0m\n\u001b[0;32m   1268\u001b[0m \u001b[1;33m\u001b[0m\u001b[0m\n",
      "\u001b[1;32mC:\\ProgramData\\Anaconda3\\lib\\site-packages\\pandas\\core\\indexing.py\u001b[0m in \u001b[0;36m_validate_read_indexer\u001b[1;34m(self, key, indexer, axis, raise_missing)\u001b[0m\n\u001b[0;32m   1314\u001b[0m             \u001b[1;32mif\u001b[0m \u001b[0mraise_missing\u001b[0m\u001b[1;33m:\u001b[0m\u001b[1;33m\u001b[0m\u001b[1;33m\u001b[0m\u001b[0m\n\u001b[0;32m   1315\u001b[0m                 \u001b[0mnot_found\u001b[0m \u001b[1;33m=\u001b[0m \u001b[0mlist\u001b[0m\u001b[1;33m(\u001b[0m\u001b[0mset\u001b[0m\u001b[1;33m(\u001b[0m\u001b[0mkey\u001b[0m\u001b[1;33m)\u001b[0m \u001b[1;33m-\u001b[0m \u001b[0mset\u001b[0m\u001b[1;33m(\u001b[0m\u001b[0max\u001b[0m\u001b[1;33m)\u001b[0m\u001b[1;33m)\u001b[0m\u001b[1;33m\u001b[0m\u001b[1;33m\u001b[0m\u001b[0m\n\u001b[1;32m-> 1316\u001b[1;33m                 \u001b[1;32mraise\u001b[0m \u001b[0mKeyError\u001b[0m\u001b[1;33m(\u001b[0m\u001b[1;34mf\"{not_found} not in index\"\u001b[0m\u001b[1;33m)\u001b[0m\u001b[1;33m\u001b[0m\u001b[1;33m\u001b[0m\u001b[0m\n\u001b[0m\u001b[0;32m   1317\u001b[0m \u001b[1;33m\u001b[0m\u001b[0m\n\u001b[0;32m   1318\u001b[0m             \u001b[0mnot_found\u001b[0m \u001b[1;33m=\u001b[0m \u001b[0mkey\u001b[0m\u001b[1;33m[\u001b[0m\u001b[0mmissing_mask\u001b[0m\u001b[1;33m]\u001b[0m\u001b[1;33m\u001b[0m\u001b[1;33m\u001b[0m\u001b[0m\n",
      "\u001b[1;31mKeyError\u001b[0m: \"['SMA1', 'SMA2'] not in index\""
     ]
    }
   ],
   "source": [
    "data[['Close', 'SMA1', 'SMA2']].plot(figsize=(15, 8))"
   ]
  },
  {
   "cell_type": "code",
   "execution_count": null,
   "metadata": {},
   "outputs": [],
   "source": [
    "data['p'] = np.where(data['SMA1'] > data['SMA2'], 1, -1)\n",
    "data['p'] = data['p'].shift(1)\n",
    "data.dropna(inplace=True)"
   ]
  },
  {
   "cell_type": "code",
   "execution_count": null,
   "metadata": {},
   "outputs": [],
   "source": [
    "columns = ['Close', 'SMA1', 'SMA2', 'p']\n",
    "data[columns].plot(figsize=(15,8), secondary_y='p');"
   ]
  },
  {
   "cell_type": "code",
   "execution_count": null,
   "metadata": {},
   "outputs": [],
   "source": [
    "data['r'] = np.log(data['Close'] / data['Close'].shift(1))\n",
    "data.dropna(inplace=True)\n",
    "#Calculates the strategy returns\n",
    "data['s'] = data['p'] * data['r']"
   ]
  },
  {
   "cell_type": "code",
   "execution_count": null,
   "metadata": {},
   "outputs": [],
   "source": [
    "#Calculates the gross performances\n",
    "data[['r', 's']].sum().apply(np.exp)"
   ]
  },
  {
   "cell_type": "code",
   "execution_count": null,
   "metadata": {},
   "outputs": [],
   "source": [
    "#Visualizes the gross performances over time\n",
    "data[['r', 's']].cumsum().apply(np.exp).plot(figsize=(15,8));"
   ]
  }
 ],
 "metadata": {
  "kernelspec": {
   "display_name": "Python 3",
   "language": "python",
   "name": "python3"
  },
  "language_info": {
   "codemirror_mode": {
    "name": "ipython",
    "version": 3
   },
   "file_extension": ".py",
   "mimetype": "text/x-python",
   "name": "python",
   "nbconvert_exporter": "python",
   "pygments_lexer": "ipython3",
   "version": "3.8.5"
  }
 },
 "nbformat": 4,
 "nbformat_minor": 4
}
