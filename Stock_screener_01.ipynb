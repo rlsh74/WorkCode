{
 "cells": [
  {
   "cell_type": "markdown",
   "id": "knowing-power",
   "metadata": {},
   "source": [
    "Methods and functions for stock selection: consolidation"
   ]
  },
  {
   "cell_type": "code",
   "execution_count": 1,
   "id": "extensive-contamination",
   "metadata": {},
   "outputs": [],
   "source": [
    "import pandas as pd\n",
    "from pandas_datareader import data as web\n",
    "from datetime import datetime\n",
    "import matplotlib.pyplot as plt\n",
    "import numpy as np\n",
    "from scipy import stats"
   ]
  },
  {
   "cell_type": "code",
   "execution_count": 2,
   "id": "intended-romania",
   "metadata": {},
   "outputs": [],
   "source": [
    "start = datetime(2020, 6, 1)\n",
    "end = datetime(2021, 4, 5)"
   ]
  },
  {
   "cell_type": "code",
   "execution_count": 3,
   "id": "rural-vintage",
   "metadata": {},
   "outputs": [],
   "source": [
    "tickers = [\n",
    "           'PLZL.ME', 'DPM.TO', 'RMS.AX', 'CG.TO', '2899.HK', 'BTG', 'EGO', 'GOR.AX', 'NCM.AX', 'WDO.TO', 'POLY.L', \n",
    "           'EQX.TO', 'CEY.L', 'PVG', 'SBM.AX', 'BVN', 'PRU.AX', 'NST.AX', 'EDV.TO', 'LUN.TO', 'RRL.AX', 'POG.L', 'KGC', 'GFI', 'TGZ.TO', 'CDE', \n",
    "           'TXG.TO', 'DRD', 'NG', 'AU', 'GOLD', 'EVN.AX', 'NEM', 'SAR.AX', 'AUY', 'AEM', 'WPM', 'IAG', 'SSRM', 'OGC.TO', 'AGI', 'NGD', 'HMY', 'SAND', 'SBSW', 'FNV', 'RGLD', 'OR', 'SA', 'ANTM.JK'\n",
    "           ]"
   ]
  },
  {
   "cell_type": "code",
   "execution_count": 4,
   "id": "sweet-mediterranean",
   "metadata": {},
   "outputs": [],
   "source": [
    "tickers = ['PAAS', 'SVM']"
   ]
  },
  {
   "cell_type": "code",
   "execution_count": 5,
   "id": "efficient-experience",
   "metadata": {},
   "outputs": [],
   "source": [
    "def Is_consolidating(df, ticker, pct_range=2):\n",
    "    recent_candlesticks = df[-10:] #take last 15 instances\n",
    "    \n",
    "    #print(recent_candlesticks)\n",
    "    \n",
    "    treshold = 1 - (pct_range / 100)\n",
    "    \n",
    "    max_close = recent_candlesticks['Close'].max()\n",
    "    min_close = recent_candlesticks['Close'].min()\n",
    "    \n",
    "    if min_close > (max_close * treshold):\n",
    "        print(f'{ticker} is consolidated!')\n",
    "        return True\n",
    "    else:\n",
    "        print(f'{ticker}: The range was: {round(((max_close/min_close - 1) * 100), 2)}%')\n",
    "        return False\n",
    "        \n",
    "    #print(f'The max close was {round(max_close, 2)} and the min close was {round(min_close, 2)}.')"
   ]
  },
  {
   "cell_type": "code",
   "execution_count": 6,
   "id": "economic-brook",
   "metadata": {},
   "outputs": [
    {
     "name": "stdout",
     "output_type": "stream",
     "text": [
      "PAAS: The range was: 12.64%\n",
      "SVM: The range was: 12.5%\n"
     ]
    }
   ],
   "source": [
    "for ticker in tickers:\n",
    "    try:\n",
    "        data = web.get_data_yahoo(ticker, start, end)\n",
    "        Is_consolidating(data, ticker, 3)\n",
    "        \n",
    "        \n",
    "    except:\n",
    "        print(f'Cannot calculate for {ticker}!')"
   ]
  },
  {
   "cell_type": "code",
   "execution_count": 7,
   "id": "enormous-grace",
   "metadata": {},
   "outputs": [],
   "source": [
    "list = pd.read_html('https://en.wikipedia.org/wiki/List_of_S%26P_500_companies')[0]"
   ]
  },
  {
   "cell_type": "code",
   "execution_count": 8,
   "id": "brilliant-transportation",
   "metadata": {},
   "outputs": [
    {
     "data": {
      "text/html": [
       "<div>\n",
       "<style scoped>\n",
       "    .dataframe tbody tr th:only-of-type {\n",
       "        vertical-align: middle;\n",
       "    }\n",
       "\n",
       "    .dataframe tbody tr th {\n",
       "        vertical-align: top;\n",
       "    }\n",
       "\n",
       "    .dataframe thead th {\n",
       "        text-align: right;\n",
       "    }\n",
       "</style>\n",
       "<table border=\"1\" class=\"dataframe\">\n",
       "  <thead>\n",
       "    <tr style=\"text-align: right;\">\n",
       "      <th></th>\n",
       "      <th>Symbol</th>\n",
       "      <th>Security</th>\n",
       "      <th>SEC filings</th>\n",
       "      <th>GICS Sector</th>\n",
       "      <th>GICS Sub-Industry</th>\n",
       "      <th>Headquarters Location</th>\n",
       "      <th>Date first added</th>\n",
       "      <th>CIK</th>\n",
       "      <th>Founded</th>\n",
       "    </tr>\n",
       "  </thead>\n",
       "  <tbody>\n",
       "    <tr>\n",
       "      <th>0</th>\n",
       "      <td>MMM</td>\n",
       "      <td>3M Company</td>\n",
       "      <td>reports</td>\n",
       "      <td>Industrials</td>\n",
       "      <td>Industrial Conglomerates</td>\n",
       "      <td>St. Paul, Minnesota</td>\n",
       "      <td>1976-08-09</td>\n",
       "      <td>66740</td>\n",
       "      <td>1902</td>\n",
       "    </tr>\n",
       "    <tr>\n",
       "      <th>1</th>\n",
       "      <td>ABT</td>\n",
       "      <td>Abbott Laboratories</td>\n",
       "      <td>reports</td>\n",
       "      <td>Health Care</td>\n",
       "      <td>Health Care Equipment</td>\n",
       "      <td>North Chicago, Illinois</td>\n",
       "      <td>1964-03-31</td>\n",
       "      <td>1800</td>\n",
       "      <td>1888</td>\n",
       "    </tr>\n",
       "    <tr>\n",
       "      <th>2</th>\n",
       "      <td>ABBV</td>\n",
       "      <td>AbbVie Inc.</td>\n",
       "      <td>reports</td>\n",
       "      <td>Health Care</td>\n",
       "      <td>Pharmaceuticals</td>\n",
       "      <td>North Chicago, Illinois</td>\n",
       "      <td>2012-12-31</td>\n",
       "      <td>1551152</td>\n",
       "      <td>2013 (1888)</td>\n",
       "    </tr>\n",
       "    <tr>\n",
       "      <th>3</th>\n",
       "      <td>ABMD</td>\n",
       "      <td>Abiomed</td>\n",
       "      <td>reports</td>\n",
       "      <td>Health Care</td>\n",
       "      <td>Health Care Equipment</td>\n",
       "      <td>Danvers, Massachusetts</td>\n",
       "      <td>2018-05-31</td>\n",
       "      <td>815094</td>\n",
       "      <td>1981</td>\n",
       "    </tr>\n",
       "    <tr>\n",
       "      <th>4</th>\n",
       "      <td>ACN</td>\n",
       "      <td>Accenture</td>\n",
       "      <td>reports</td>\n",
       "      <td>Information Technology</td>\n",
       "      <td>IT Consulting &amp; Other Services</td>\n",
       "      <td>Dublin, Ireland</td>\n",
       "      <td>2011-07-06</td>\n",
       "      <td>1467373</td>\n",
       "      <td>1989</td>\n",
       "    </tr>\n",
       "  </tbody>\n",
       "</table>\n",
       "</div>"
      ],
      "text/plain": [
       "  Symbol             Security SEC filings             GICS Sector  \\\n",
       "0    MMM           3M Company     reports             Industrials   \n",
       "1    ABT  Abbott Laboratories     reports             Health Care   \n",
       "2   ABBV          AbbVie Inc.     reports             Health Care   \n",
       "3   ABMD              Abiomed     reports             Health Care   \n",
       "4    ACN            Accenture     reports  Information Technology   \n",
       "\n",
       "                GICS Sub-Industry    Headquarters Location Date first added  \\\n",
       "0        Industrial Conglomerates      St. Paul, Minnesota       1976-08-09   \n",
       "1           Health Care Equipment  North Chicago, Illinois       1964-03-31   \n",
       "2                 Pharmaceuticals  North Chicago, Illinois       2012-12-31   \n",
       "3           Health Care Equipment   Danvers, Massachusetts       2018-05-31   \n",
       "4  IT Consulting & Other Services          Dublin, Ireland       2011-07-06   \n",
       "\n",
       "       CIK      Founded  \n",
       "0    66740         1902  \n",
       "1     1800         1888  \n",
       "2  1551152  2013 (1888)  \n",
       "3   815094         1981  \n",
       "4  1467373         1989  "
      ]
     },
     "execution_count": 8,
     "metadata": {},
     "output_type": "execute_result"
    }
   ],
   "source": [
    "list.head()"
   ]
  },
  {
   "cell_type": "code",
   "execution_count": 9,
   "id": "worst-country",
   "metadata": {},
   "outputs": [
    {
     "data": {
      "text/plain": [
       "505"
      ]
     },
     "execution_count": 9,
     "metadata": {},
     "output_type": "execute_result"
    }
   ],
   "source": [
    "tickers = list.Symbol.tolist()\n",
    "len(tickers)"
   ]
  },
  {
   "cell_type": "code",
   "execution_count": null,
   "id": "manual-stewart",
   "metadata": {},
   "outputs": [
    {
     "name": "stdout",
     "output_type": "stream",
     "text": [
      "MMM: The range was: 3.93%\n",
      "ABT: The range was: 3.57%\n",
      "ABBV: The range was: 5.3%\n",
      "ABMD: The range was: 8.36%\n",
      "ACN: The range was: 6.42%\n",
      "ATVI: The range was: 8.67%\n",
      "ADBE: The range was: 9.8%\n",
      "AMD: The range was: 6.7%\n",
      "AAP: The range was: 4.34%\n",
      "AES: The range was: 7.08%\n",
      "AFL: The range was: 4.71%\n",
      "A: The range was: 7.56%\n",
      "APD: The range was: 5.25%\n",
      "AKAM: The range was: 5.82%\n",
      "ALK: The range was: 9.94%\n",
      "ALB: The range was: 4.65%\n",
      "Cannot calculate for ARE!\n",
      "ALXN is consolidated!\n",
      "ALGN: The range was: 8.04%\n",
      "ALLE: The range was: 7.81%\n",
      "LNT: The range was: 6.99%\n",
      "ALL: The range was: 4.85%\n",
      "GOOGL: The range was: 9.72%\n",
      "GOOG: The range was: 9.6%\n",
      "MO: The range was: 6.04%\n",
      "AMZN: The range was: 5.62%\n",
      "AMCR: The range was: 4.33%\n",
      "AEE: The range was: 6.03%\n",
      "AAL: The range was: 12.47%\n",
      "AEP: The range was: 3.43%\n",
      "AXP: The range was: 7.68%\n",
      "AIG: The range was: 5.25%\n",
      "AMT: The range was: 7.6%\n",
      "AWK: The range was: 8.5%\n",
      "AMP: The range was: 8.07%\n",
      "ABC: The range was: 4.65%\n",
      "AME: The range was: 6.9%\n",
      "AMGN: The range was: 4.05%\n",
      "APH: The range was: 9.34%\n",
      "ADI: The range was: 8.83%\n",
      "ANSS: The range was: 10.24%\n",
      "ANTM: The range was: 5.74%\n",
      "AON: The range was: 4.58%\n",
      "AOS: The range was: 6.48%\n",
      "APA: The range was: 7.94%\n",
      "AAPL: The range was: 4.85%\n"
     ]
    }
   ],
   "source": [
    "cons_list = []\n",
    "for ticker in tickers:\n",
    "    try:\n",
    "        data = web.get_data_yahoo(ticker, start, end)\n",
    "        \n",
    "        if Is_consolidating(data, ticker, 3):\n",
    "            cons_list.append(ticker)\n",
    "        \n",
    "    except:\n",
    "        print(f'Cannot calculate for {ticker}!')"
   ]
  },
  {
   "cell_type": "code",
   "execution_count": null,
   "id": "technological-composite",
   "metadata": {},
   "outputs": [],
   "source": []
  },
  {
   "cell_type": "code",
   "execution_count": null,
   "id": "narrow-canon",
   "metadata": {},
   "outputs": [],
   "source": [
    "cons_list"
   ]
  },
  {
   "cell_type": "code",
   "execution_count": null,
   "id": "handed-lighter",
   "metadata": {},
   "outputs": [],
   "source": []
  }
 ],
 "metadata": {
  "kernelspec": {
   "display_name": "Python 3",
   "language": "python",
   "name": "python3"
  },
  "language_info": {
   "codemirror_mode": {
    "name": "ipython",
    "version": 3
   },
   "file_extension": ".py",
   "mimetype": "text/x-python",
   "name": "python",
   "nbconvert_exporter": "python",
   "pygments_lexer": "ipython3",
   "version": "3.8.5"
  }
 },
 "nbformat": 4,
 "nbformat_minor": 5
}
