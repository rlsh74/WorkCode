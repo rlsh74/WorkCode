{
  "nbformat": 4,
  "nbformat_minor": 0,
  "metadata": {
    "colab": {
      "name": "ML_KMeans_trading.ipynb",
      "provenance": []
    },
    "kernelspec": {
      "name": "python3",
      "display_name": "Python 3"
    },
    "language_info": {
      "name": "python"
    }
  },
  "cells": [
    {
      "cell_type": "code",
      "metadata": {
        "id": "9OfeqajitpjM"
      },
      "source": [
        "import matplotlib.pyplot as plt\n",
        "from datetime import datetime\n",
        "import pandas as pd\n",
        "import numpy as np\n",
        "#import talib\n",
        "from sklearn.cluster import KMeans\n",
        "\n",
        "from pandas_datareader import data as web"
      ],
      "execution_count": null,
      "outputs": []
    },
    {
      "cell_type": "code",
      "metadata": {
        "id": "6HF7WleQuCfB"
      },
      "source": [
        "#Simple moving average (SMA)\n",
        "def SMA(data, period=21, column='Close'):\n",
        "    return data[column].rolling(window=period).mean()\n",
        "\n",
        "#Exponencial moving average (EMA)\n",
        "def EMA(data, period=21, column='Close'):\n",
        "    return data[column].ewm(span=period, adjust = False).mean()\n",
        "\n",
        "#Moving Average Convergence/Divergence (MACD):\n",
        "def MACD(data, period_long=26, period_short=12, period_signal=9, column='Close'):\n",
        "    \n",
        "    ShortEMA = EMA(data, period_short, column=column)\n",
        "    LongEMA = EMA(data, period_long, column=column)\n",
        "    data['MACD'] = ShortEMA - LongEMA\n",
        "    data['Signal_Line'] = EMA(data, period_signal, column='MACD')\n",
        "\n",
        "    return data\n",
        "\n",
        "#Relative Strength Index (RSI)\n",
        "def RSI(data, period=14, column='Close'):\n",
        "    delta = data[column].diff(1)\n",
        "    delta = delta[1:]\n",
        "\n",
        "    up = delta.copy()\n",
        "    down = delta.copy()\n",
        "\n",
        "    up[up < 0] = 0\n",
        "    down[down > 0] = 0\n",
        "\n",
        "    data['Up'] = up\n",
        "    data['Down'] = down\n",
        "\n",
        "    AVG_Gain = SMA(data, period, column='Up')\n",
        "    AVG_Loss = abs(SMA(data, period, column='Down'))\n",
        "\n",
        "    RS = AVG_Gain / AVG_Loss\n",
        "    RSI = 100.0 - (100.0/(1.0 + RS))\n",
        "    \n",
        "    data['RSI'] = RSI\n",
        "\n",
        "    return data\n",
        "\n",
        "#On Balance Volume (OBV)\n",
        "def OBV(data, column_pr='Close', column_vol='Volume'):\n",
        "    data['OBV'] = np.where(df[column_pr] > df[column_pr].shift(1), df[column_vol], np.where(df[column_pr] < df[column_pr].shift(1), -df[column_vol], 0)).cumsum()\n",
        "\n",
        "    return data\n",
        "\n",
        "def Bollinger(data, period=14, deviation=2, column='Close'):\n",
        "    data['BB_up'] = data[column].rolling(period).mean() + deviation * data[column].rolling(period).std()\n",
        "    data['BB_mid'] = data[column].rolling(period).mean()\n",
        "    data['BB_dn'] = data[column].rolling(period).mean() - deviation * data[column].rolling(period).std()\n",
        "\n",
        "    return(data)\n",
        "    \n",
        "\n",
        "def Price_ROC(data, period=14, column='Close'):\n",
        "    \n",
        "    if period >= 1:\n",
        "\n",
        "        res = np.zeros(period)\n",
        "\n",
        "        for i in range(period, len(data)):\n",
        "            roc = np.array([(data[column].iloc[i] - data[column].iloc[i-period]) / data[column].iloc[i-period] * 100])\n",
        "            res = np.append(res, roc)\n",
        "\n",
        "        #prices['momentum'] = pd.Series(res_mom)\n",
        "        #result = pd.Series(res)\n",
        "        data['ROC'] = pd.Series(res)\n",
        "    else:\n",
        "        print('Period cannot be less than 1.')\n",
        "\n",
        "    return(data)\n",
        "\n",
        "def Williams_R(data, period=14, column='Close'):\n",
        "   \n",
        "    data['L_period'] = data['Low'].rolling(window=period).min()\n",
        "\n",
        "    #Create the \"H_period\" column in the DataFrame\n",
        "    data['H_period'] = data['High'].rolling(window=period).max()\n",
        "\n",
        "    #Create the \"%R\" column in the DataFrame\n",
        "    data['Williams'] = (data[column] - data['H_period']) / (data['H_period'] - data['L_period']) * 100\n",
        "\n",
        "    data.drop(['L_period'], axis=1, inplace=True)\n",
        "    data.drop(['H_period'], axis=1, inplace=True)\n",
        "\n",
        "    return(data)\n",
        "\n",
        "def Stochastic(data, period=14, period_ma=3, column='Close'):\n",
        "   \n",
        "    data['L_period'] = data['Low'].rolling(window=period).min()\n",
        "\n",
        "    #Create the \"H_period\" column in the DataFrame\n",
        "    data['H_period'] = data['High'].rolling(window=period).max()\n",
        "\n",
        "    #Create the \"%K\" column in the DataFrame\n",
        "    data['%K'] = 100*((data[column] - data['L_period']) / (data['H_period'] - data['L_period']))\n",
        "\n",
        "    #Create the \"%D\" column in the DataFrame\n",
        "    data['%D'] = data['%K'].rolling(window=period_ma).mean()\n",
        "\n",
        "    data.drop(['L_period'], axis=1, inplace=True)\n",
        "    data.drop(['H_period'], axis=1, inplace=True)\n",
        "\n",
        "    return(data)"
      ],
      "execution_count": null,
      "outputs": []
    },
    {
      "cell_type": "code",
      "metadata": {
        "id": "8cOfJSDfu_Fm"
      },
      "source": [
        "ticker = 'NEM'\n",
        "\n",
        "end_date = datetime.now()\n",
        "#start_date = datetime(end_date.year-YEARS, end_date.month, end_date.day)\n",
        "start_date = datetime(2010, 1, 1)\n",
        "\n",
        "interval ='d'"
      ],
      "execution_count": null,
      "outputs": []
    },
    {
      "cell_type": "code",
      "metadata": {
        "id": "zgbOqZwqvLAc"
      },
      "source": [
        "df = pd.DataFrame()\n",
        "\n",
        "df['Open'] = web.get_data_yahoo(ticker, start=start_date, end=end_date, interval=interval)['Open']\n",
        "df['High'] = web.get_data_yahoo(ticker, start=start_date, end=end_date, interval=interval)['High']\n",
        "df['Low'] = web.get_data_yahoo(ticker, start=start_date, end=end_date, interval=interval)['Low']\n",
        "df['Close'] = web.get_data_yahoo(ticker, start=start_date, end=end_date, interval=interval)['Close']\n",
        "df['Volume'] = web.get_data_yahoo(ticker, start=start_date, end=end_date, interval=interval)['Volume']"
      ],
      "execution_count": null,
      "outputs": []
    },
    {
      "cell_type": "code",
      "metadata": {
        "id": "A0l4swRVve4v"
      },
      "source": [
        "#Call the functions\n",
        "MACD(df)\n",
        "RSI(df)\n",
        "OBV(df)\n",
        "Bollinger(df)\n",
        "Price_ROC(df)\n",
        "Williams_R(df)\n",
        "Stochastic(df)\n",
        "df['SMA'] = SMA(df)\n",
        "df['EMA'] = EMA(df)\n",
        "\n",
        "df['Vol'] = df['Volume'] / df['Volume'].rolling(20).mean()\n",
        "df['Ret'] = df['Open'].shift(-2) - df['Open'].shift(-1)\n",
        "df['Target'] = 0\n",
        "df = df[30:]"
      ],
      "execution_count": null,
      "outputs": []
    },
    {
      "cell_type": "code",
      "metadata": {
        "colab": {
          "base_uri": "https://localhost:8080/",
          "height": 321
        },
        "id": "eJ25swpnwkZ_",
        "outputId": "7fa30b9a-dc79-4b3f-e921-859cc884bedd"
      },
      "source": [
        "df.head()"
      ],
      "execution_count": null,
      "outputs": [
        {
          "output_type": "execute_result",
          "data": {
            "text/html": [
              "<div>\n",
              "<style scoped>\n",
              "    .dataframe tbody tr th:only-of-type {\n",
              "        vertical-align: middle;\n",
              "    }\n",
              "\n",
              "    .dataframe tbody tr th {\n",
              "        vertical-align: top;\n",
              "    }\n",
              "\n",
              "    .dataframe thead th {\n",
              "        text-align: right;\n",
              "    }\n",
              "</style>\n",
              "<table border=\"1\" class=\"dataframe\">\n",
              "  <thead>\n",
              "    <tr style=\"text-align: right;\">\n",
              "      <th></th>\n",
              "      <th>Open</th>\n",
              "      <th>High</th>\n",
              "      <th>Low</th>\n",
              "      <th>Close</th>\n",
              "      <th>Volume</th>\n",
              "      <th>MACD</th>\n",
              "      <th>Signal_Line</th>\n",
              "      <th>Up</th>\n",
              "      <th>Down</th>\n",
              "      <th>RSI</th>\n",
              "      <th>OBV</th>\n",
              "      <th>BB_up</th>\n",
              "      <th>BB_mid</th>\n",
              "      <th>BB_dn</th>\n",
              "      <th>ROC</th>\n",
              "      <th>Williams</th>\n",
              "      <th>%K</th>\n",
              "      <th>%D</th>\n",
              "      <th>SMA</th>\n",
              "      <th>EMA</th>\n",
              "      <th>Vol</th>\n",
              "      <th>Ret</th>\n",
              "      <th>Target</th>\n",
              "    </tr>\n",
              "    <tr>\n",
              "      <th>Date</th>\n",
              "      <th></th>\n",
              "      <th></th>\n",
              "      <th></th>\n",
              "      <th></th>\n",
              "      <th></th>\n",
              "      <th></th>\n",
              "      <th></th>\n",
              "      <th></th>\n",
              "      <th></th>\n",
              "      <th></th>\n",
              "      <th></th>\n",
              "      <th></th>\n",
              "      <th></th>\n",
              "      <th></th>\n",
              "      <th></th>\n",
              "      <th></th>\n",
              "      <th></th>\n",
              "      <th></th>\n",
              "      <th></th>\n",
              "      <th></th>\n",
              "      <th></th>\n",
              "      <th></th>\n",
              "      <th></th>\n",
              "    </tr>\n",
              "  </thead>\n",
              "  <tbody>\n",
              "    <tr>\n",
              "      <th>2010-02-17</th>\n",
              "      <td>47.320000</td>\n",
              "      <td>47.860001</td>\n",
              "      <td>46.919998</td>\n",
              "      <td>47.240002</td>\n",
              "      <td>12083800.0</td>\n",
              "      <td>-0.127815</td>\n",
              "      <td>-0.537723</td>\n",
              "      <td>0.000000</td>\n",
              "      <td>-0.179996</td>\n",
              "      <td>59.327236</td>\n",
              "      <td>-45145800.0</td>\n",
              "      <td>48.231769</td>\n",
              "      <td>45.486429</td>\n",
              "      <td>42.741089</td>\n",
              "      <td>NaN</td>\n",
              "      <td>-14.119908</td>\n",
              "      <td>85.880092</td>\n",
              "      <td>88.518825</td>\n",
              "      <td>45.385238</td>\n",
              "      <td>46.133841</td>\n",
              "      <td>1.094541</td>\n",
              "      <td>0.459999</td>\n",
              "      <td>0</td>\n",
              "    </tr>\n",
              "    <tr>\n",
              "      <th>2010-02-18</th>\n",
              "      <td>47.299999</td>\n",
              "      <td>48.950001</td>\n",
              "      <td>47.299999</td>\n",
              "      <td>48.410000</td>\n",
              "      <td>10410600.0</td>\n",
              "      <td>0.063857</td>\n",
              "      <td>-0.417407</td>\n",
              "      <td>1.169998</td>\n",
              "      <td>0.000000</td>\n",
              "      <td>62.759821</td>\n",
              "      <td>-34735200.0</td>\n",
              "      <td>48.810205</td>\n",
              "      <td>45.802143</td>\n",
              "      <td>42.794081</td>\n",
              "      <td>NaN</td>\n",
              "      <td>-8.780501</td>\n",
              "      <td>91.219499</td>\n",
              "      <td>88.820413</td>\n",
              "      <td>45.383810</td>\n",
              "      <td>46.340765</td>\n",
              "      <td>0.950428</td>\n",
              "      <td>0.810001</td>\n",
              "      <td>0</td>\n",
              "    </tr>\n",
              "    <tr>\n",
              "      <th>2010-02-19</th>\n",
              "      <td>47.759998</td>\n",
              "      <td>49.000000</td>\n",
              "      <td>47.470001</td>\n",
              "      <td>48.540001</td>\n",
              "      <td>8567900.0</td>\n",
              "      <td>0.223669</td>\n",
              "      <td>-0.289192</td>\n",
              "      <td>0.130001</td>\n",
              "      <td>0.000000</td>\n",
              "      <td>67.401978</td>\n",
              "      <td>-26167300.0</td>\n",
              "      <td>49.033162</td>\n",
              "      <td>46.207857</td>\n",
              "      <td>43.382552</td>\n",
              "      <td>NaN</td>\n",
              "      <td>-7.809832</td>\n",
              "      <td>92.190168</td>\n",
              "      <td>89.763253</td>\n",
              "      <td>45.485238</td>\n",
              "      <td>46.540695</td>\n",
              "      <td>0.807644</td>\n",
              "      <td>-1.009998</td>\n",
              "      <td>0</td>\n",
              "    </tr>\n",
              "    <tr>\n",
              "      <th>2010-02-22</th>\n",
              "      <td>48.570000</td>\n",
              "      <td>48.689999</td>\n",
              "      <td>47.459999</td>\n",
              "      <td>47.730000</td>\n",
              "      <td>6265300.0</td>\n",
              "      <td>0.281714</td>\n",
              "      <td>-0.175011</td>\n",
              "      <td>0.000000</td>\n",
              "      <td>-0.810001</td>\n",
              "      <td>57.577858</td>\n",
              "      <td>-32432600.0</td>\n",
              "      <td>49.271620</td>\n",
              "      <td>46.364286</td>\n",
              "      <td>43.456951</td>\n",
              "      <td>NaN</td>\n",
              "      <td>-21.561979</td>\n",
              "      <td>78.438021</td>\n",
              "      <td>87.282563</td>\n",
              "      <td>45.641905</td>\n",
              "      <td>46.648814</td>\n",
              "      <td>0.610127</td>\n",
              "      <td>-1.220001</td>\n",
              "      <td>0</td>\n",
              "    </tr>\n",
              "    <tr>\n",
              "      <th>2010-02-23</th>\n",
              "      <td>47.560001</td>\n",
              "      <td>47.959999</td>\n",
              "      <td>46.090000</td>\n",
              "      <td>46.580002</td>\n",
              "      <td>8061600.0</td>\n",
              "      <td>0.232243</td>\n",
              "      <td>-0.093560</td>\n",
              "      <td>0.000000</td>\n",
              "      <td>-1.149998</td>\n",
              "      <td>54.272677</td>\n",
              "      <td>-40494200.0</td>\n",
              "      <td>49.297003</td>\n",
              "      <td>46.457857</td>\n",
              "      <td>43.618712</td>\n",
              "      <td>NaN</td>\n",
              "      <td>-41.086561</td>\n",
              "      <td>58.913439</td>\n",
              "      <td>76.513876</td>\n",
              "      <td>45.744286</td>\n",
              "      <td>46.642558</td>\n",
              "      <td>0.786371</td>\n",
              "      <td>0.450001</td>\n",
              "      <td>0</td>\n",
              "    </tr>\n",
              "  </tbody>\n",
              "</table>\n",
              "</div>"
            ],
            "text/plain": [
              "                 Open       High        Low  ...       Vol       Ret  Target\n",
              "Date                                         ...                            \n",
              "2010-02-17  47.320000  47.860001  46.919998  ...  1.094541  0.459999       0\n",
              "2010-02-18  47.299999  48.950001  47.299999  ...  0.950428  0.810001       0\n",
              "2010-02-19  47.759998  49.000000  47.470001  ...  0.807644 -1.009998       0\n",
              "2010-02-22  48.570000  48.689999  47.459999  ...  0.610127 -1.220001       0\n",
              "2010-02-23  47.560001  47.959999  46.090000  ...  0.786371  0.450001       0\n",
              "\n",
              "[5 rows x 23 columns]"
            ]
          },
          "metadata": {
            "tags": []
          },
          "execution_count": 63
        }
      ]
    },
    {
      "cell_type": "code",
      "metadata": {
        "id": "GC-UXtW5xhVl"
      },
      "source": [
        "df_train = df[df.index < datetime(2018,1,1)]\n",
        "df_test = df[df.index >= datetime(2018,1,1)]"
      ],
      "execution_count": null,
      "outputs": []
    },
    {
      "cell_type": "code",
      "metadata": {
        "colab": {
          "base_uri": "https://localhost:8080/"
        },
        "id": "xMJ147TtyLwD",
        "outputId": "e81ffe7b-ac68-47f3-c35e-b6b77a474a6a"
      },
      "source": [
        "df_train.shape, df_test.shape"
      ],
      "execution_count": null,
      "outputs": [
        {
          "output_type": "execute_result",
          "data": {
            "text/plain": [
              "((1983, 23), (833, 23))"
            ]
          },
          "metadata": {
            "tags": []
          },
          "execution_count": 75
        }
      ]
    },
    {
      "cell_type": "code",
      "metadata": {
        "colab": {
          "base_uri": "https://localhost:8080/"
        },
        "id": "7OZbj5Pj03As",
        "outputId": "ada9e941-e96b-4dbf-8451-285b410588da"
      },
      "source": [
        "df_train.columns"
      ],
      "execution_count": null,
      "outputs": [
        {
          "output_type": "execute_result",
          "data": {
            "text/plain": [
              "Index(['Open', 'High', 'Low', 'Close', 'Volume', 'MACD', 'Signal_Line', 'Up',\n",
              "       'Down', 'RSI', 'OBV', 'BB_up', 'BB_mid', 'BB_dn', 'ROC', 'Williams',\n",
              "       '%K', '%D', 'SMA', 'EMA', 'Vol', 'Ret', 'Target'],\n",
              "      dtype='object')"
            ]
          },
          "metadata": {
            "tags": []
          },
          "execution_count": 76
        }
      ]
    },
    {
      "cell_type": "code",
      "metadata": {
        "colab": {
          "base_uri": "https://localhost:8080/"
        },
        "id": "G2P5BffxySqr",
        "outputId": "cdefd015-3e0c-4e54-de16-2c1112ea810e"
      },
      "source": [
        "features = ['Vol', 'RSI']\n",
        "\n",
        "X = df_train[features]\n",
        "\n",
        "kmeans = KMeans(n_clusters=3).fit(X)\n",
        "y_kmeans = kmeans.predict(X)\n",
        "df_train['Tar'] = y_kmeans"
      ],
      "execution_count": null,
      "outputs": [
        {
          "output_type": "stream",
          "text": [
            "/usr/local/lib/python3.7/dist-packages/ipykernel_launcher.py:7: SettingWithCopyWarning: \n",
            "A value is trying to be set on a copy of a slice from a DataFrame.\n",
            "Try using .loc[row_indexer,col_indexer] = value instead\n",
            "\n",
            "See the caveats in the documentation: https://pandas.pydata.org/pandas-docs/stable/user_guide/indexing.html#returning-a-view-versus-a-copy\n",
            "  import sys\n"
          ],
          "name": "stderr"
        }
      ]
    },
    {
      "cell_type": "code",
      "metadata": {
        "colab": {
          "base_uri": "https://localhost:8080/",
          "height": 265
        },
        "id": "qHf_G8iN1f_a",
        "outputId": "ede8edd4-64a4-48b4-afd7-f7d4549611f0"
      },
      "source": [
        "# --------------------------\n",
        "#  Plot Training\n",
        "#\n",
        "centers = kmeans.cluster_centers_\n",
        "plt.scatter(df_train['Vol'],df_train['RSI'],c=y_kmeans)\n",
        "plt.scatter(centers[:,0],centers[:,1],c='red',s=100,marker='x')\n",
        "plt.show()"
      ],
      "execution_count": null,
      "outputs": [
        {
          "output_type": "display_data",
          "data": {
            "image/png": "[encoded data removed]",
            "text/plain": [
              "<Figure size 432x288 with 1 Axes>"
            ]
          },
          "metadata": {
            "tags": [],
            "needs_background": "light"
          }
        }
      ]
    },
    {
      "cell_type": "code",
      "metadata": {
        "colab": {
          "base_uri": "https://localhost:8080/"
        },
        "id": "RUGpuIXr1riy",
        "outputId": "68dbd137-45e5-461a-eeb6-6dd12564d893"
      },
      "source": [
        "# -------------------------------\n",
        "#  K Means - Testing\n",
        "#\n",
        "x = df_test[features]\n",
        "y_kmeans = kmeans.predict(x)\n",
        "df_test['Tar'] = y_kmeans"
      ],
      "execution_count": null,
      "outputs": [
        {
          "output_type": "stream",
          "text": [
            "/usr/local/lib/python3.7/dist-packages/ipykernel_launcher.py:6: SettingWithCopyWarning: \n",
            "A value is trying to be set on a copy of a slice from a DataFrame.\n",
            "Try using .loc[row_indexer,col_indexer] = value instead\n",
            "\n",
            "See the caveats in the documentation: https://pandas.pydata.org/pandas-docs/stable/user_guide/indexing.html#returning-a-view-versus-a-copy\n",
            "  \n"
          ],
          "name": "stderr"
        }
      ]
    },
    {
      "cell_type": "code",
      "metadata": {
        "colab": {
          "base_uri": "https://localhost:8080/",
          "height": 265
        },
        "id": "CgIUMm0z10ps",
        "outputId": "bd1505a8-cd2b-49d7-af70-aa582f2942d3"
      },
      "source": [
        "# --------------------------------\n",
        "#  Plot Testing\n",
        "#\n",
        "plt.scatter(df_test['Vol'],df_test['RSI'],c=y_kmeans)\n",
        "plt.scatter(centers[:,0],centers[:,1],c='red',s=100,marker='x')\n",
        "plt.show()"
      ],
      "execution_count": null,
      "outputs": [
        {
          "output_type": "display_data",
          "data": {
            "image/png": "[encoded data removed]",
            "text/plain": [
              "<Figure size 432x288 with 1 Axes>"
            ]
          },
          "metadata": {
            "tags": [],
            "needs_background": "light"
          }
        }
      ]
    },
    {
      "cell_type": "code",
      "metadata": {
        "colab": {
          "base_uri": "https://localhost:8080/"
        },
        "id": "ECiFpdrI2SKY",
        "outputId": "20c0e3f0-d78b-40f2-9a05-9feec66ca806"
      },
      "source": [
        "# ------------------------------------------\n",
        "#  Compare Training and Testing\n",
        "#\n",
        "print(\"Total Points Earned by Cluster Prediction\")\n",
        "\n",
        "print(\"Cluster 1 Train: %.2f\\tCluster 1 Test: %2.f\" % (df_train['Ret'].loc[df_train['Tar'] == 0].sum(),df_test['Ret'].loc[df_test['Tar'] == 0].sum()))\n",
        "\n",
        "print(\"Cluster 2 Train: %.2f\\tCluster 2 Test: %.2f\" % (df_train['Ret'].loc[df_train['Tar'] == 1].sum(),df_test['Ret'].loc[df_test['Tar'] == 1].sum()))\n",
        "\n",
        "print(\"Cluster 3 Train: %.2f\\tCluster 3 Test: %.2f\" % (df_train['Ret'].loc[df_train['Tar'] == 2].sum(),df_test['Ret'].loc[df_test['Tar'] == 2].sum()))"
      ],
      "execution_count": null,
      "outputs": [
        {
          "output_type": "stream",
          "text": [
            "Total Points Earned by Cluster Prediction\n",
            "Cluster 1 Train: 15.12\tCluster 1 Test: 25\n",
            "Cluster 2 Train: -13.61\tCluster 2 Test: -10.12\n",
            "Cluster 3 Train: -10.60\tCluster 3 Test: 13.46\n"
          ],
          "name": "stdout"
        }
      ]
    },
    {
      "cell_type": "code",
      "metadata": {
        "colab": {
          "base_uri": "https://localhost:8080/",
          "height": 266
        },
        "id": "TNkqFGcM2X_T",
        "outputId": "b0685ce7-f451-4ad3-96d7-3c3315c197fd"
      },
      "source": [
        "# ------------------------------\n",
        "#  Equity Curves\n",
        "#\n",
        "plt.plot(np.cumsum(df_test['Ret'].loc[df_test['Tar'] == 0]),label='Cluster Low')\n",
        "plt.plot(np.cumsum(df_test['Ret'].loc[df_test['Tar'] == 1]),label='Cluster High')\n",
        "plt.plot(np.cumsum(df_test['Ret'].loc[df_test['Tar'] == 2]),label='Cluster Med')\n",
        "plt.legend()\n",
        "plt.show()"
      ],
      "execution_count": null,
      "outputs": [
        {
          "output_type": "display_data",
          "data": {
            "image/png": "[encoded data removed]",
            "text/plain": [
              "<Figure size 432x288 with 1 Axes>"
            ]
          },
          "metadata": {
            "tags": [],
            "needs_background": "light"
          }
        }
      ]
    },
    {
      "cell_type": "markdown",
      "metadata": {
        "id": "Lq9ev78n2lYA"
      },
      "source": [
        ""
      ]
    },
    {
      "cell_type": "code",
      "metadata": {
        "id": "2WPcj38r2knf"
      },
      "source": [
        ""
      ],
      "execution_count": null,
      "outputs": []
    }
  ]
}