{
 "cells": [
  {
   "cell_type": "code",
   "execution_count": 12,
   "id": "ddc9a0ba",
   "metadata": {},
   "outputs": [],
   "source": [
    "import numpy as np\n",
    "import pandas as pd\n",
    "import statsmodels\n",
    "from statsmodels.tsa.stattools import coint\n",
    "import seaborn\n",
    "import matplotlib.pyplot as plt\n",
    "from pandas_datareader import data as web\n",
    "from datetime import datetime, timedelta"
   ]
  },
  {
   "cell_type": "code",
   "execution_count": 13,
   "id": "ca89aff5",
   "metadata": {},
   "outputs": [],
   "source": [
    "tickers = [\n",
    "           'PLZL.ME', 'DPM.TO', 'RMS.AX', 'CG.TO', '2899.HK', 'BTG', 'EGO', 'GOR.AX', 'NCM.AX', 'WDO.TO', 'POLY.L', \n",
    "           'EQX.TO', 'CEY.L', 'PVG', 'SBM.AX', 'BVN', 'PRU.AX', 'NST.AX', 'EDV.TO', 'LUN.TO', 'RRL.AX', 'POG.L', 'KGC', 'GFI', 'TGZ.TO', 'CDE', \n",
    "           'TXG.TO', 'DRD', 'NG', 'AU', 'GOLD', 'EVN.AX', 'NEM', 'SAR.AX', 'AUY', 'AEM', 'WPM', 'IAG', 'SSRM', 'OGC.TO', 'AGI', 'NGD', 'HMY', 'SAND', 'SBSW', 'FNV', 'RGLD', 'OR', 'SA', 'ANTM.JK'\n",
    "           ]\n",
    "#benchmark = 'DX=F' #(Dollar index)\n",
    "benchmark = 'GC=F' #(Index SP500)\n",
    "industry_mark = 'GDX'\n",
    "ATR_PERIOD = 12\n",
    "start_date = datetime(2015, 1, 1)\n",
    "#end_date = datetime(2021, 5, 1)\n",
    "end_date = datetime.today()\n",
    "\n",
    "interval = 'd'\n",
    "\n",
    "ticker1 = ['NEM']\n",
    "ticker2 = ['GOLD']\n",
    "\n",
    "tickers = ['NEM', 'GOLD']\n"
   ]
  },
  {
   "cell_type": "code",
   "execution_count": 14,
   "id": "89412db3",
   "metadata": {},
   "outputs": [],
   "source": [
    "#df = pd.DataFrame()\n",
    "#df['close1'] = c\n",
    "#df['close2'] = web.get_data_yahoo(ticker2, start=start_date, end=end_date, interval=interval)['Close']\n",
    "\n",
    "df = web.get_data_yahoo(tickers, start=start_date, end=end_date, interval=interval)['Close']"
   ]
  },
  {
   "cell_type": "code",
   "execution_count": 15,
   "id": "9bffb23b",
   "metadata": {},
   "outputs": [
    {
     "data": {
      "text/html": [
       "<div>\n",
       "<style scoped>\n",
       "    .dataframe tbody tr th:only-of-type {\n",
       "        vertical-align: middle;\n",
       "    }\n",
       "\n",
       "    .dataframe tbody tr th {\n",
       "        vertical-align: top;\n",
       "    }\n",
       "\n",
       "    .dataframe thead th {\n",
       "        text-align: right;\n",
       "    }\n",
       "</style>\n",
       "<table border=\"1\" class=\"dataframe\">\n",
       "  <thead>\n",
       "    <tr style=\"text-align: right;\">\n",
       "      <th>Symbols</th>\n",
       "      <th>NEM</th>\n",
       "      <th>GOLD</th>\n",
       "    </tr>\n",
       "    <tr>\n",
       "      <th>Date</th>\n",
       "      <th></th>\n",
       "      <th></th>\n",
       "    </tr>\n",
       "  </thead>\n",
       "  <tbody>\n",
       "    <tr>\n",
       "      <th>2021-05-06</th>\n",
       "      <td>66.889999</td>\n",
       "      <td>23.549999</td>\n",
       "    </tr>\n",
       "    <tr>\n",
       "      <th>2021-05-07</th>\n",
       "      <td>67.330002</td>\n",
       "      <td>23.920000</td>\n",
       "    </tr>\n",
       "    <tr>\n",
       "      <th>2021-05-10</th>\n",
       "      <td>68.349998</td>\n",
       "      <td>23.930000</td>\n",
       "    </tr>\n",
       "    <tr>\n",
       "      <th>2021-05-11</th>\n",
       "      <td>68.779999</td>\n",
       "      <td>23.950001</td>\n",
       "    </tr>\n",
       "    <tr>\n",
       "      <th>2021-05-12</th>\n",
       "      <td>67.860001</td>\n",
       "      <td>23.530001</td>\n",
       "    </tr>\n",
       "  </tbody>\n",
       "</table>\n",
       "</div>"
      ],
      "text/plain": [
       "Symbols           NEM       GOLD\n",
       "Date                            \n",
       "2021-05-06  66.889999  23.549999\n",
       "2021-05-07  67.330002  23.920000\n",
       "2021-05-10  68.349998  23.930000\n",
       "2021-05-11  68.779999  23.950001\n",
       "2021-05-12  67.860001  23.530001"
      ]
     },
     "execution_count": 15,
     "metadata": {},
     "output_type": "execute_result"
    }
   ],
   "source": [
    "df.tail()"
   ]
  },
  {
   "cell_type": "code",
   "execution_count": 29,
   "id": "accd8b2e",
   "metadata": {},
   "outputs": [
    {
     "name": "stderr",
     "output_type": "stream",
     "text": [
      "<ipython-input-29-1f5c14790a33>:1: SettingWithCopyWarning: \n",
      "A value is trying to be set on a copy of a slice from a DataFrame.\n",
      "Try using .loc[row_indexer,col_indexer] = value instead\n",
      "\n",
      "See the caveats in the documentation: https://pandas.pydata.org/pandas-docs/stable/user_guide/indexing.html#returning-a-view-versus-a-copy\n",
      "  df['Diff1'] = df[ticker1].pct_change()\n",
      "<ipython-input-29-1f5c14790a33>:2: SettingWithCopyWarning: \n",
      "A value is trying to be set on a copy of a slice from a DataFrame.\n",
      "Try using .loc[row_indexer,col_indexer] = value instead\n",
      "\n",
      "See the caveats in the documentation: https://pandas.pydata.org/pandas-docs/stable/user_guide/indexing.html#returning-a-view-versus-a-copy\n",
      "  df['Diff2'] = df[ticker2].pct_change()\n"
     ]
    },
    {
     "data": {
      "text/html": [
       "<div>\n",
       "<style scoped>\n",
       "    .dataframe tbody tr th:only-of-type {\n",
       "        vertical-align: middle;\n",
       "    }\n",
       "\n",
       "    .dataframe tbody tr th {\n",
       "        vertical-align: top;\n",
       "    }\n",
       "\n",
       "    .dataframe thead th {\n",
       "        text-align: right;\n",
       "    }\n",
       "</style>\n",
       "<table border=\"1\" class=\"dataframe\">\n",
       "  <thead>\n",
       "    <tr style=\"text-align: right;\">\n",
       "      <th>Symbols</th>\n",
       "      <th>Date</th>\n",
       "      <th>NEM</th>\n",
       "      <th>GOLD</th>\n",
       "      <th>Diff1</th>\n",
       "      <th>Diff2</th>\n",
       "    </tr>\n",
       "  </thead>\n",
       "  <tbody>\n",
       "    <tr>\n",
       "      <th>0</th>\n",
       "      <td>2015-01-07</td>\n",
       "      <td>20.090000</td>\n",
       "      <td>11.120000</td>\n",
       "      <td>-0.008880</td>\n",
       "      <td>-0.013310</td>\n",
       "    </tr>\n",
       "    <tr>\n",
       "      <th>1</th>\n",
       "      <td>2015-01-08</td>\n",
       "      <td>19.980000</td>\n",
       "      <td>10.810000</td>\n",
       "      <td>-0.005475</td>\n",
       "      <td>-0.027878</td>\n",
       "    </tr>\n",
       "    <tr>\n",
       "      <th>2</th>\n",
       "      <td>2015-01-09</td>\n",
       "      <td>20.719999</td>\n",
       "      <td>10.990000</td>\n",
       "      <td>0.037037</td>\n",
       "      <td>0.016651</td>\n",
       "    </tr>\n",
       "    <tr>\n",
       "      <th>3</th>\n",
       "      <td>2015-01-12</td>\n",
       "      <td>21.190001</td>\n",
       "      <td>11.330000</td>\n",
       "      <td>0.022683</td>\n",
       "      <td>0.030937</td>\n",
       "    </tr>\n",
       "    <tr>\n",
       "      <th>4</th>\n",
       "      <td>2015-01-13</td>\n",
       "      <td>20.360001</td>\n",
       "      <td>10.680000</td>\n",
       "      <td>-0.039169</td>\n",
       "      <td>-0.057370</td>\n",
       "    </tr>\n",
       "    <tr>\n",
       "      <th>...</th>\n",
       "      <td>...</td>\n",
       "      <td>...</td>\n",
       "      <td>...</td>\n",
       "      <td>...</td>\n",
       "      <td>...</td>\n",
       "    </tr>\n",
       "    <tr>\n",
       "      <th>1593</th>\n",
       "      <td>2021-05-06</td>\n",
       "      <td>66.889999</td>\n",
       "      <td>23.549999</td>\n",
       "      <td>0.031616</td>\n",
       "      <td>0.058427</td>\n",
       "    </tr>\n",
       "    <tr>\n",
       "      <th>1594</th>\n",
       "      <td>2021-05-07</td>\n",
       "      <td>67.330002</td>\n",
       "      <td>23.920000</td>\n",
       "      <td>0.006578</td>\n",
       "      <td>0.015711</td>\n",
       "    </tr>\n",
       "    <tr>\n",
       "      <th>1595</th>\n",
       "      <td>2021-05-10</td>\n",
       "      <td>68.349998</td>\n",
       "      <td>23.930000</td>\n",
       "      <td>0.015149</td>\n",
       "      <td>0.000418</td>\n",
       "    </tr>\n",
       "    <tr>\n",
       "      <th>1596</th>\n",
       "      <td>2021-05-11</td>\n",
       "      <td>68.779999</td>\n",
       "      <td>23.950001</td>\n",
       "      <td>0.006291</td>\n",
       "      <td>0.000836</td>\n",
       "    </tr>\n",
       "    <tr>\n",
       "      <th>1597</th>\n",
       "      <td>2021-05-12</td>\n",
       "      <td>67.860001</td>\n",
       "      <td>23.530001</td>\n",
       "      <td>-0.013376</td>\n",
       "      <td>-0.017537</td>\n",
       "    </tr>\n",
       "  </tbody>\n",
       "</table>\n",
       "<p>1598 rows × 5 columns</p>\n",
       "</div>"
      ],
      "text/plain": [
       "Symbols       Date        NEM       GOLD     Diff1     Diff2\n",
       "0       2015-01-07  20.090000  11.120000 -0.008880 -0.013310\n",
       "1       2015-01-08  19.980000  10.810000 -0.005475 -0.027878\n",
       "2       2015-01-09  20.719999  10.990000  0.037037  0.016651\n",
       "3       2015-01-12  21.190001  11.330000  0.022683  0.030937\n",
       "4       2015-01-13  20.360001  10.680000 -0.039169 -0.057370\n",
       "...            ...        ...        ...       ...       ...\n",
       "1593    2021-05-06  66.889999  23.549999  0.031616  0.058427\n",
       "1594    2021-05-07  67.330002  23.920000  0.006578  0.015711\n",
       "1595    2021-05-10  68.349998  23.930000  0.015149  0.000418\n",
       "1596    2021-05-11  68.779999  23.950001  0.006291  0.000836\n",
       "1597    2021-05-12  67.860001  23.530001 -0.013376 -0.017537\n",
       "\n",
       "[1598 rows x 5 columns]"
      ]
     },
     "execution_count": 29,
     "metadata": {},
     "output_type": "execute_result"
    }
   ],
   "source": [
    "df['Diff1'] = df[ticker1].pct_change()\n",
    "df['Diff2'] = df[ticker2].pct_change()\n",
    "df = df.dropna()\n",
    "df = df.reset_index()\n",
    "df"
   ]
  },
  {
   "cell_type": "code",
   "execution_count": 23,
   "id": "f6527080",
   "metadata": {},
   "outputs": [],
   "source": [
    "from statsmodels.tsa.vector_ar.vecm import coint_johansen"
   ]
  },
  {
   "cell_type": "code",
   "execution_count": 30,
   "id": "2566c160",
   "metadata": {},
   "outputs": [],
   "source": [
    "X = df[['Diff1', 'Diff2']]"
   ]
  },
  {
   "cell_type": "code",
   "execution_count": 31,
   "id": "c265291e",
   "metadata": {},
   "outputs": [
    {
     "data": {
      "text/html": [
       "<div>\n",
       "<style scoped>\n",
       "    .dataframe tbody tr th:only-of-type {\n",
       "        vertical-align: middle;\n",
       "    }\n",
       "\n",
       "    .dataframe tbody tr th {\n",
       "        vertical-align: top;\n",
       "    }\n",
       "\n",
       "    .dataframe thead th {\n",
       "        text-align: right;\n",
       "    }\n",
       "</style>\n",
       "<table border=\"1\" class=\"dataframe\">\n",
       "  <thead>\n",
       "    <tr style=\"text-align: right;\">\n",
       "      <th>Symbols</th>\n",
       "      <th>Diff1</th>\n",
       "      <th>Diff2</th>\n",
       "    </tr>\n",
       "  </thead>\n",
       "  <tbody>\n",
       "    <tr>\n",
       "      <th>0</th>\n",
       "      <td>-0.008880</td>\n",
       "      <td>-0.013310</td>\n",
       "    </tr>\n",
       "    <tr>\n",
       "      <th>1</th>\n",
       "      <td>-0.005475</td>\n",
       "      <td>-0.027878</td>\n",
       "    </tr>\n",
       "    <tr>\n",
       "      <th>2</th>\n",
       "      <td>0.037037</td>\n",
       "      <td>0.016651</td>\n",
       "    </tr>\n",
       "    <tr>\n",
       "      <th>3</th>\n",
       "      <td>0.022683</td>\n",
       "      <td>0.030937</td>\n",
       "    </tr>\n",
       "    <tr>\n",
       "      <th>4</th>\n",
       "      <td>-0.039169</td>\n",
       "      <td>-0.057370</td>\n",
       "    </tr>\n",
       "  </tbody>\n",
       "</table>\n",
       "</div>"
      ],
      "text/plain": [
       "Symbols     Diff1     Diff2\n",
       "0       -0.008880 -0.013310\n",
       "1       -0.005475 -0.027878\n",
       "2        0.037037  0.016651\n",
       "3        0.022683  0.030937\n",
       "4       -0.039169 -0.057370"
      ]
     },
     "execution_count": 31,
     "metadata": {},
     "output_type": "execute_result"
    }
   ],
   "source": [
    "X.head()"
   ]
  },
  {
   "cell_type": "code",
   "execution_count": 32,
   "id": "33e778da",
   "metadata": {},
   "outputs": [],
   "source": [
    "jres = coint_johansen(X, det_order=0, k_ar_diff=1)"
   ]
  },
  {
   "cell_type": "code",
   "execution_count": 33,
   "id": "fc58c903",
   "metadata": {},
   "outputs": [
    {
     "data": {
      "text/plain": [
       "array([[12.2971, 14.2639, 18.52  ],\n",
       "       [ 2.7055,  3.8415,  6.6349]])"
      ]
     },
     "execution_count": 33,
     "metadata": {},
     "output_type": "execute_result"
    }
   ],
   "source": [
    "jres.cvm"
   ]
  },
  {
   "cell_type": "code",
   "execution_count": 35,
   "id": "38de3ad7",
   "metadata": {},
   "outputs": [],
   "source": [
    "X = df['Diff1']\n",
    "Y = df['Diff2']"
   ]
  },
  {
   "cell_type": "code",
   "execution_count": 36,
   "id": "361ea5ba",
   "metadata": {},
   "outputs": [],
   "source": [
    "score, p_value, _ = coint(X, Y)"
   ]
  },
  {
   "cell_type": "code",
   "execution_count": 37,
   "id": "d1be4afd",
   "metadata": {},
   "outputs": [
    {
     "name": "stdout",
     "output_type": "stream",
     "text": [
      "-11.957492969038848 4.794412280129081e-21\n"
     ]
    }
   ],
   "source": [
    "print(score, p_value)"
   ]
  },
  {
   "cell_type": "code",
   "execution_count": 38,
   "id": "6f60ee9a",
   "metadata": {},
   "outputs": [
    {
     "name": "stdout",
     "output_type": "stream",
     "text": [
      "p-value: 0.0000 correlation: 0.8181742988734113\n"
     ]
    }
   ],
   "source": [
    "corr = X.corr(Y)\n",
    "print('p-value: %.4f'%p_value, 'correlation: %s'%corr)"
   ]
  }
 ],
 "metadata": {
  "kernelspec": {
   "display_name": "Python 3",
   "language": "python",
   "name": "python3"
  },
  "language_info": {
   "codemirror_mode": {
    "name": "ipython",
    "version": 3
   },
   "file_extension": ".py",
   "mimetype": "text/x-python",
   "name": "python",
   "nbconvert_exporter": "python",
   "pygments_lexer": "ipython3",
   "version": "3.8.5"
  }
 },
 "nbformat": 4,
 "nbformat_minor": 5
}
